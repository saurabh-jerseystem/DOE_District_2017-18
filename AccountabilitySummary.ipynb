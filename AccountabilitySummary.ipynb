{
 "cells": [
  {
   "cell_type": "code",
   "execution_count": 1,
   "metadata": {},
   "outputs": [
    {
     "data": {
      "text/html": [
       "<div>\n",
       "<style scoped>\n",
       "    .dataframe tbody tr th:only-of-type {\n",
       "        vertical-align: middle;\n",
       "    }\n",
       "\n",
       "    .dataframe tbody tr th {\n",
       "        vertical-align: top;\n",
       "    }\n",
       "\n",
       "    .dataframe thead th {\n",
       "        text-align: right;\n",
       "    }\n",
       "</style>\n",
       "<table border=\"1\" class=\"dataframe\">\n",
       "  <thead>\n",
       "    <tr style=\"text-align: right;\">\n",
       "      <th></th>\n",
       "      <th>CountyCode</th>\n",
       "      <th>CountyName</th>\n",
       "      <th>DistrictCode</th>\n",
       "      <th>DistrictName</th>\n",
       "      <th>StudentGroup</th>\n",
       "      <th>ELAProf_MetTarget</th>\n",
       "      <th>MathProf_MetTarget</th>\n",
       "      <th>Grad4YR_MetTarget</th>\n",
       "      <th>Grad5YR_MetTarget</th>\n",
       "      <th>ELAGrowth_MetStandard</th>\n",
       "      <th>MathGrowth_MetStandard</th>\n",
       "      <th>ELP_MetTarget</th>\n",
       "      <th>CA_MetAverage</th>\n",
       "    </tr>\n",
       "  </thead>\n",
       "  <tbody>\n",
       "    <tr>\n",
       "      <th>0</th>\n",
       "      <td>01</td>\n",
       "      <td>ATLANTIC</td>\n",
       "      <td>0010</td>\n",
       "      <td>ABSECON CITY</td>\n",
       "      <td>Districtwide</td>\n",
       "      <td>Met Target</td>\n",
       "      <td>Met Target</td>\n",
       "      <td>N</td>\n",
       "      <td>N</td>\n",
       "      <td>Met Standard</td>\n",
       "      <td>Met Standard</td>\n",
       "      <td>Met Target†</td>\n",
       "      <td>Met</td>\n",
       "    </tr>\n",
       "    <tr>\n",
       "      <th>1</th>\n",
       "      <td>01</td>\n",
       "      <td>ATLANTIC</td>\n",
       "      <td>0010</td>\n",
       "      <td>ABSECON CITY</td>\n",
       "      <td>White</td>\n",
       "      <td>Met Target</td>\n",
       "      <td>Met Target</td>\n",
       "      <td>N</td>\n",
       "      <td>N</td>\n",
       "      <td>Met Standard</td>\n",
       "      <td>Met Standard</td>\n",
       "      <td>N</td>\n",
       "      <td>Met</td>\n",
       "    </tr>\n",
       "  </tbody>\n",
       "</table>\n",
       "</div>"
      ],
      "text/plain": [
       "  CountyCode CountyName DistrictCode  DistrictName  StudentGroup  \\\n",
       "0         01   ATLANTIC         0010  ABSECON CITY  Districtwide   \n",
       "1         01   ATLANTIC         0010  ABSECON CITY         White   \n",
       "\n",
       "  ELAProf_MetTarget MathProf_MetTarget Grad4YR_MetTarget Grad5YR_MetTarget  \\\n",
       "0        Met Target         Met Target                 N                 N   \n",
       "1        Met Target         Met Target                 N                 N   \n",
       "\n",
       "  ELAGrowth_MetStandard MathGrowth_MetStandard ELP_MetTarget CA_MetAverage  \n",
       "0          Met Standard           Met Standard   Met Target†           Met  \n",
       "1          Met Standard           Met Standard             N           Met  "
      ]
     },
     "execution_count": 1,
     "metadata": {},
     "output_type": "execute_result"
    }
   ],
   "source": [
    "import os\n",
    "import pandas as pd\n",
    "import numpy as np\n",
    "\n",
    "#df = pd.read_excel('narrative_raw.xlsx')\n",
    "df = pd.read_csv('raw.csv',index_col = False, dtype = {\"CountyCode\": str,\"DistrictCode\": str,\"SchoolCode\": str})\n",
    "df.head(2)"
   ]
  },
  {
   "cell_type": "markdown",
   "metadata": {},
   "source": [
    "### Check number of columns and rows"
   ]
  },
  {
   "cell_type": "code",
   "execution_count": 2,
   "metadata": {},
   "outputs": [
    {
     "data": {
      "text/plain": [
       "(6500, 13)"
      ]
     },
     "execution_count": 2,
     "metadata": {},
     "output_type": "execute_result"
    }
   ],
   "source": [
    "df.shape"
   ]
  },
  {
   "cell_type": "markdown",
   "metadata": {},
   "source": [
    "### Adding columns from 2016-17 table"
   ]
  },
  {
   "cell_type": "code",
   "execution_count": 3,
   "metadata": {},
   "outputs": [],
   "source": [
    "df['ChronicAbs'] = 'NA'\n",
    "df['RequiresTargetedSupImp'] = 'NA'\n",
    "df['Year'] = '2017-18'"
   ]
  },
  {
   "cell_type": "markdown",
   "metadata": {},
   "source": [
    "### Check if columns are added properly"
   ]
  },
  {
   "cell_type": "code",
   "execution_count": 4,
   "metadata": {
    "scrolled": true
   },
   "outputs": [
    {
     "data": {
      "text/html": [
       "<div>\n",
       "<style scoped>\n",
       "    .dataframe tbody tr th:only-of-type {\n",
       "        vertical-align: middle;\n",
       "    }\n",
       "\n",
       "    .dataframe tbody tr th {\n",
       "        vertical-align: top;\n",
       "    }\n",
       "\n",
       "    .dataframe thead th {\n",
       "        text-align: right;\n",
       "    }\n",
       "</style>\n",
       "<table border=\"1\" class=\"dataframe\">\n",
       "  <thead>\n",
       "    <tr style=\"text-align: right;\">\n",
       "      <th></th>\n",
       "      <th>CountyCode</th>\n",
       "      <th>CountyName</th>\n",
       "      <th>DistrictCode</th>\n",
       "      <th>DistrictName</th>\n",
       "      <th>StudentGroup</th>\n",
       "      <th>ELAProf_MetTarget</th>\n",
       "      <th>MathProf_MetTarget</th>\n",
       "      <th>Grad4YR_MetTarget</th>\n",
       "      <th>Grad5YR_MetTarget</th>\n",
       "      <th>ELAGrowth_MetStandard</th>\n",
       "      <th>MathGrowth_MetStandard</th>\n",
       "      <th>ELP_MetTarget</th>\n",
       "      <th>CA_MetAverage</th>\n",
       "      <th>ChronicAbs</th>\n",
       "      <th>RequiresTargetedSupImp</th>\n",
       "      <th>Year</th>\n",
       "    </tr>\n",
       "  </thead>\n",
       "  <tbody>\n",
       "    <tr>\n",
       "      <th>0</th>\n",
       "      <td>01</td>\n",
       "      <td>ATLANTIC</td>\n",
       "      <td>0010</td>\n",
       "      <td>ABSECON CITY</td>\n",
       "      <td>Districtwide</td>\n",
       "      <td>Met Target</td>\n",
       "      <td>Met Target</td>\n",
       "      <td>N</td>\n",
       "      <td>N</td>\n",
       "      <td>Met Standard</td>\n",
       "      <td>Met Standard</td>\n",
       "      <td>Met Target†</td>\n",
       "      <td>Met</td>\n",
       "      <td>NA</td>\n",
       "      <td>NA</td>\n",
       "      <td>2017-18</td>\n",
       "    </tr>\n",
       "    <tr>\n",
       "      <th>1</th>\n",
       "      <td>01</td>\n",
       "      <td>ATLANTIC</td>\n",
       "      <td>0010</td>\n",
       "      <td>ABSECON CITY</td>\n",
       "      <td>White</td>\n",
       "      <td>Met Target</td>\n",
       "      <td>Met Target</td>\n",
       "      <td>N</td>\n",
       "      <td>N</td>\n",
       "      <td>Met Standard</td>\n",
       "      <td>Met Standard</td>\n",
       "      <td>N</td>\n",
       "      <td>Met</td>\n",
       "      <td>NA</td>\n",
       "      <td>NA</td>\n",
       "      <td>2017-18</td>\n",
       "    </tr>\n",
       "  </tbody>\n",
       "</table>\n",
       "</div>"
      ],
      "text/plain": [
       "  CountyCode CountyName DistrictCode  DistrictName  StudentGroup  \\\n",
       "0         01   ATLANTIC         0010  ABSECON CITY  Districtwide   \n",
       "1         01   ATLANTIC         0010  ABSECON CITY         White   \n",
       "\n",
       "  ELAProf_MetTarget MathProf_MetTarget Grad4YR_MetTarget Grad5YR_MetTarget  \\\n",
       "0        Met Target         Met Target                 N                 N   \n",
       "1        Met Target         Met Target                 N                 N   \n",
       "\n",
       "  ELAGrowth_MetStandard MathGrowth_MetStandard ELP_MetTarget CA_MetAverage  \\\n",
       "0          Met Standard           Met Standard   Met Target†           Met   \n",
       "1          Met Standard           Met Standard             N           Met   \n",
       "\n",
       "  ChronicAbs RequiresTargetedSupImp     Year  \n",
       "0         NA                     NA  2017-18  \n",
       "1         NA                     NA  2017-18  "
      ]
     },
     "execution_count": 4,
     "metadata": {},
     "output_type": "execute_result"
    }
   ],
   "source": [
    "df.head(2)"
   ]
  },
  {
   "cell_type": "markdown",
   "metadata": {},
   "source": [
    "### Check missing values"
   ]
  },
  {
   "cell_type": "code",
   "execution_count": 5,
   "metadata": {
    "scrolled": true
   },
   "outputs": [
    {
     "data": {
      "text/plain": [
       "CountyCode                0\n",
       "CountyName                0\n",
       "DistrictCode              0\n",
       "DistrictName              0\n",
       "StudentGroup              0\n",
       "ELAProf_MetTarget         0\n",
       "MathProf_MetTarget        0\n",
       "Grad4YR_MetTarget         0\n",
       "Grad5YR_MetTarget         0\n",
       "ELAGrowth_MetStandard     0\n",
       "MathGrowth_MetStandard    0\n",
       "ELP_MetTarget             0\n",
       "CA_MetAverage             0\n",
       "ChronicAbs                0\n",
       "RequiresTargetedSupImp    0\n",
       "Year                      0\n",
       "dtype: int64"
      ]
     },
     "execution_count": 5,
     "metadata": {},
     "output_type": "execute_result"
    }
   ],
   "source": [
    "df.isnull().sum()"
   ]
  },
  {
   "cell_type": "markdown",
   "metadata": {},
   "source": [
    "### Fill missing values"
   ]
  },
  {
   "cell_type": "code",
   "execution_count": 7,
   "metadata": {},
   "outputs": [],
   "source": [
    "#df = df.fillna('9999999')"
   ]
  },
  {
   "cell_type": "markdown",
   "metadata": {},
   "source": [
    "### Check again if missing values are dealt properly"
   ]
  },
  {
   "cell_type": "code",
   "execution_count": 9,
   "metadata": {},
   "outputs": [
    {
     "data": {
      "text/plain": [
       "CountyCode                0\n",
       "CountyName                0\n",
       "DistrictCode              0\n",
       "DistrictName              0\n",
       "StudentGroup              0\n",
       "ELAProf_MetTarget         0\n",
       "MathProf_MetTarget        0\n",
       "Grad4YR_MetTarget         0\n",
       "Grad5YR_MetTarget         0\n",
       "ELAGrowth_MetStandard     0\n",
       "MathGrowth_MetStandard    0\n",
       "ELP_MetTarget             0\n",
       "CA_MetAverage             0\n",
       "ChronicAbs                0\n",
       "RequiresTargetedSupImp    0\n",
       "Year                      0\n",
       "dtype: int64"
      ]
     },
     "execution_count": 9,
     "metadata": {},
     "output_type": "execute_result"
    }
   ],
   "source": [
    "df.isnull().sum()"
   ]
  },
  {
   "cell_type": "markdown",
   "metadata": {},
   "source": [
    "### Check for meaningless values such as '**','N'\n"
   ]
  },
  {
   "cell_type": "code",
   "execution_count": 10,
   "metadata": {},
   "outputs": [],
   "source": [
    "df['StudentGroup'] = df['StudentGroup'].replace('**','NA')\n",
    "df['StudentGroup'] = df['StudentGroup'].replace('N','NA')\n",
    "\n",
    "df['ELAProf_MetTarget'] = df['ELAProf_MetTarget'].replace('**','NA')\n",
    "df['ELAProf_MetTarget'] = df['ELAProf_MetTarget'].replace('N','NA')\n",
    "\n",
    "df['MathProf_MetTarget'] = df['MathProf_MetTarget'].replace('**','NA')\n",
    "df['MathProf_MetTarget'] = df['MathProf_MetTarget'].replace('N','NA')\n",
    "\n",
    "df['Grad4YR_MetTarget'] = df['Grad4YR_MetTarget'].replace('**','NA')\n",
    "df['Grad4YR_MetTarget'] = df['Grad4YR_MetTarget'].replace('N','NA')\n",
    "\n",
    "df['Grad5YR_MetTarget'] = df['Grad5YR_MetTarget'].replace('**','NA')\n",
    "df['Grad5YR_MetTarget'] = df['Grad5YR_MetTarget'].replace('N','NA')\n",
    "\n",
    "df['ELAGrowth_MetStandard'] = df['ELAGrowth_MetStandard'].replace('**','NA')\n",
    "df['ELAGrowth_MetStandard'] = df['ELAGrowth_MetStandard'].replace('N','NA')\n",
    "\n",
    "df['MathGrowth_MetStandard'] = df['MathGrowth_MetStandard'].replace('**','NA')\n",
    "df['MathGrowth_MetStandard'] = df['MathGrowth_MetStandard'].replace('N','NA')\n",
    "\n",
    "df['ELP_MetTarget'] = df['ELP_MetTarget'].replace('**','NA')\n",
    "df['ELP_MetTarget'] = df['ELP_MetTarget'].replace('N','NA')\n",
    "\n",
    "df['CA_MetAverage'] = df['CA_MetAverage'].replace('**','NA')\n",
    "df['CA_MetAverage'] = df['CA_MetAverage'].replace('N','NA')"
   ]
  },
  {
   "cell_type": "markdown",
   "metadata": {},
   "source": [
    "### Check Data types of all columns"
   ]
  },
  {
   "cell_type": "code",
   "execution_count": 11,
   "metadata": {
    "scrolled": true
   },
   "outputs": [
    {
     "data": {
      "text/plain": [
       "CountyCode                object\n",
       "CountyName                object\n",
       "DistrictCode              object\n",
       "DistrictName              object\n",
       "StudentGroup              object\n",
       "ELAProf_MetTarget         object\n",
       "MathProf_MetTarget        object\n",
       "Grad4YR_MetTarget         object\n",
       "Grad5YR_MetTarget         object\n",
       "ELAGrowth_MetStandard     object\n",
       "MathGrowth_MetStandard    object\n",
       "ELP_MetTarget             object\n",
       "CA_MetAverage             object\n",
       "ChronicAbs                object\n",
       "RequiresTargetedSupImp    object\n",
       "Year                      object\n",
       "dtype: object"
      ]
     },
     "execution_count": 11,
     "metadata": {},
     "output_type": "execute_result"
    }
   ],
   "source": [
    "df.dtypes"
   ]
  },
  {
   "cell_type": "markdown",
   "metadata": {},
   "source": [
    "### Change Data types "
   ]
  },
  {
   "cell_type": "code",
   "execution_count": 12,
   "metadata": {},
   "outputs": [],
   "source": [
    "#df[\"AdminCount_District\"] = df[\"AdminCount_District\"].astype(int)\n"
   ]
  },
  {
   "cell_type": "markdown",
   "metadata": {},
   "source": [
    "### Check the changed data types"
   ]
  },
  {
   "cell_type": "code",
   "execution_count": 13,
   "metadata": {},
   "outputs": [],
   "source": [
    "#df.dtypes"
   ]
  },
  {
   "cell_type": "markdown",
   "metadata": {},
   "source": [
    "### Get a look at final data"
   ]
  },
  {
   "cell_type": "code",
   "execution_count": 14,
   "metadata": {},
   "outputs": [
    {
     "data": {
      "text/html": [
       "<div>\n",
       "<style scoped>\n",
       "    .dataframe tbody tr th:only-of-type {\n",
       "        vertical-align: middle;\n",
       "    }\n",
       "\n",
       "    .dataframe tbody tr th {\n",
       "        vertical-align: top;\n",
       "    }\n",
       "\n",
       "    .dataframe thead th {\n",
       "        text-align: right;\n",
       "    }\n",
       "</style>\n",
       "<table border=\"1\" class=\"dataframe\">\n",
       "  <thead>\n",
       "    <tr style=\"text-align: right;\">\n",
       "      <th></th>\n",
       "      <th>CountyCode</th>\n",
       "      <th>CountyName</th>\n",
       "      <th>DistrictCode</th>\n",
       "      <th>DistrictName</th>\n",
       "      <th>StudentGroup</th>\n",
       "      <th>ELAProf_MetTarget</th>\n",
       "      <th>MathProf_MetTarget</th>\n",
       "      <th>Grad4YR_MetTarget</th>\n",
       "      <th>Grad5YR_MetTarget</th>\n",
       "      <th>ELAGrowth_MetStandard</th>\n",
       "      <th>MathGrowth_MetStandard</th>\n",
       "      <th>ELP_MetTarget</th>\n",
       "      <th>CA_MetAverage</th>\n",
       "      <th>ChronicAbs</th>\n",
       "      <th>RequiresTargetedSupImp</th>\n",
       "      <th>Year</th>\n",
       "    </tr>\n",
       "  </thead>\n",
       "  <tbody>\n",
       "    <tr>\n",
       "      <th>0</th>\n",
       "      <td>01</td>\n",
       "      <td>ATLANTIC</td>\n",
       "      <td>0010</td>\n",
       "      <td>ABSECON CITY</td>\n",
       "      <td>Districtwide</td>\n",
       "      <td>Met Target</td>\n",
       "      <td>Met Target</td>\n",
       "      <td>NA</td>\n",
       "      <td>NA</td>\n",
       "      <td>Met Standard</td>\n",
       "      <td>Met Standard</td>\n",
       "      <td>Met Target†</td>\n",
       "      <td>Met</td>\n",
       "      <td>NA</td>\n",
       "      <td>NA</td>\n",
       "      <td>2017-18</td>\n",
       "    </tr>\n",
       "    <tr>\n",
       "      <th>1</th>\n",
       "      <td>01</td>\n",
       "      <td>ATLANTIC</td>\n",
       "      <td>0010</td>\n",
       "      <td>ABSECON CITY</td>\n",
       "      <td>White</td>\n",
       "      <td>Met Target</td>\n",
       "      <td>Met Target</td>\n",
       "      <td>NA</td>\n",
       "      <td>NA</td>\n",
       "      <td>Met Standard</td>\n",
       "      <td>Met Standard</td>\n",
       "      <td>NA</td>\n",
       "      <td>Met</td>\n",
       "      <td>NA</td>\n",
       "      <td>NA</td>\n",
       "      <td>2017-18</td>\n",
       "    </tr>\n",
       "    <tr>\n",
       "      <th>2</th>\n",
       "      <td>01</td>\n",
       "      <td>ATLANTIC</td>\n",
       "      <td>0010</td>\n",
       "      <td>ABSECON CITY</td>\n",
       "      <td>Hispanic</td>\n",
       "      <td>Met Target†</td>\n",
       "      <td>Not Met</td>\n",
       "      <td>NA</td>\n",
       "      <td>NA</td>\n",
       "      <td>Met Standard</td>\n",
       "      <td>Met Standard</td>\n",
       "      <td>NA</td>\n",
       "      <td>Met</td>\n",
       "      <td>NA</td>\n",
       "      <td>NA</td>\n",
       "      <td>2017-18</td>\n",
       "    </tr>\n",
       "    <tr>\n",
       "      <th>3</th>\n",
       "      <td>01</td>\n",
       "      <td>ATLANTIC</td>\n",
       "      <td>0010</td>\n",
       "      <td>ABSECON CITY</td>\n",
       "      <td>Black or African American</td>\n",
       "      <td>Met Target</td>\n",
       "      <td>Met Target†</td>\n",
       "      <td>NA</td>\n",
       "      <td>NA</td>\n",
       "      <td>Met Standard</td>\n",
       "      <td>Met Standard</td>\n",
       "      <td>NA</td>\n",
       "      <td>Not Met</td>\n",
       "      <td>NA</td>\n",
       "      <td>NA</td>\n",
       "      <td>2017-18</td>\n",
       "    </tr>\n",
       "    <tr>\n",
       "      <th>4</th>\n",
       "      <td>01</td>\n",
       "      <td>ATLANTIC</td>\n",
       "      <td>0010</td>\n",
       "      <td>ABSECON CITY</td>\n",
       "      <td>Asian, Native Hawaiian, or Pacific Islander</td>\n",
       "      <td>NA</td>\n",
       "      <td>NA</td>\n",
       "      <td>NA</td>\n",
       "      <td>NA</td>\n",
       "      <td>NA</td>\n",
       "      <td>NA</td>\n",
       "      <td>NA</td>\n",
       "      <td>Met</td>\n",
       "      <td>NA</td>\n",
       "      <td>NA</td>\n",
       "      <td>2017-18</td>\n",
       "    </tr>\n",
       "  </tbody>\n",
       "</table>\n",
       "</div>"
      ],
      "text/plain": [
       "  CountyCode CountyName DistrictCode  DistrictName  \\\n",
       "0         01   ATLANTIC         0010  ABSECON CITY   \n",
       "1         01   ATLANTIC         0010  ABSECON CITY   \n",
       "2         01   ATLANTIC         0010  ABSECON CITY   \n",
       "3         01   ATLANTIC         0010  ABSECON CITY   \n",
       "4         01   ATLANTIC         0010  ABSECON CITY   \n",
       "\n",
       "                                  StudentGroup ELAProf_MetTarget  \\\n",
       "0                                 Districtwide        Met Target   \n",
       "1                                        White        Met Target   \n",
       "2                                     Hispanic       Met Target†   \n",
       "3                    Black or African American        Met Target   \n",
       "4  Asian, Native Hawaiian, or Pacific Islander                NA   \n",
       "\n",
       "  MathProf_MetTarget Grad4YR_MetTarget Grad5YR_MetTarget  \\\n",
       "0         Met Target                NA                NA   \n",
       "1         Met Target                NA                NA   \n",
       "2            Not Met                NA                NA   \n",
       "3        Met Target†                NA                NA   \n",
       "4                 NA                NA                NA   \n",
       "\n",
       "  ELAGrowth_MetStandard MathGrowth_MetStandard ELP_MetTarget CA_MetAverage  \\\n",
       "0          Met Standard           Met Standard   Met Target†           Met   \n",
       "1          Met Standard           Met Standard            NA           Met   \n",
       "2          Met Standard           Met Standard            NA           Met   \n",
       "3          Met Standard           Met Standard            NA       Not Met   \n",
       "4                    NA                     NA            NA           Met   \n",
       "\n",
       "  ChronicAbs RequiresTargetedSupImp     Year  \n",
       "0         NA                     NA  2017-18  \n",
       "1         NA                     NA  2017-18  \n",
       "2         NA                     NA  2017-18  \n",
       "3         NA                     NA  2017-18  \n",
       "4         NA                     NA  2017-18  "
      ]
     },
     "execution_count": 14,
     "metadata": {},
     "output_type": "execute_result"
    }
   ],
   "source": [
    "df.head()"
   ]
  },
  {
   "cell_type": "code",
   "execution_count": 15,
   "metadata": {},
   "outputs": [],
   "source": [
    "#df1.to_csv(df1.csv)\n",
    "df.to_csv('AccountabilitySummary.csv', encoding='utf-8', index=False)"
   ]
  },
  {
   "cell_type": "code",
   "execution_count": null,
   "metadata": {},
   "outputs": [],
   "source": [
    "#x= df1.to_excel('output1.xlsx')  # doctest: +SKIP"
   ]
  }
 ],
 "metadata": {
  "kernelspec": {
   "display_name": "Python 3",
   "language": "python",
   "name": "python3"
  },
  "language_info": {
   "codemirror_mode": {
    "name": "ipython",
    "version": 3
   },
   "file_extension": ".py",
   "mimetype": "text/x-python",
   "name": "python",
   "nbconvert_exporter": "python",
   "pygments_lexer": "ipython3",
   "version": "3.7.3"
  }
 },
 "nbformat": 4,
 "nbformat_minor": 2
}
