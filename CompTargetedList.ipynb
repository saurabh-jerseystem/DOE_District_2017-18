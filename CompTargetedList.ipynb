{
 "cells": [
  {
   "cell_type": "code",
   "execution_count": 11,
   "metadata": {},
   "outputs": [
    {
     "data": {
      "text/html": [
       "<div>\n",
       "<style scoped>\n",
       "    .dataframe tbody tr th:only-of-type {\n",
       "        vertical-align: middle;\n",
       "    }\n",
       "\n",
       "    .dataframe tbody tr th {\n",
       "        vertical-align: top;\n",
       "    }\n",
       "\n",
       "    .dataframe thead th {\n",
       "        text-align: right;\n",
       "    }\n",
       "</style>\n",
       "<table border=\"1\" class=\"dataframe\">\n",
       "  <thead>\n",
       "    <tr style=\"text-align: right;\">\n",
       "      <th></th>\n",
       "      <th>County Code</th>\n",
       "      <th>County Name</th>\n",
       "      <th>District Code</th>\n",
       "      <th>District Name</th>\n",
       "      <th>School Code</th>\n",
       "      <th>School Name</th>\n",
       "      <th>School Requires Comprehensive Support - As of 2017-18</th>\n",
       "      <th>Any Student Group(s) Requiring Targeted Support - As of 2017-18</th>\n",
       "      <th>Student Group(s) Requiring Targeted Support - As of 2017-18</th>\n",
       "    </tr>\n",
       "  </thead>\n",
       "  <tbody>\n",
       "    <tr>\n",
       "      <th>0</th>\n",
       "      <td>01</td>\n",
       "      <td>ATLANTIC</td>\n",
       "      <td>0010</td>\n",
       "      <td>ABSECON CITY</td>\n",
       "      <td>050</td>\n",
       "      <td>EMMA C ATTALES</td>\n",
       "      <td>No</td>\n",
       "      <td>Yes</td>\n",
       "      <td>Students with Disabilities</td>\n",
       "    </tr>\n",
       "    <tr>\n",
       "      <th>1</th>\n",
       "      <td>01</td>\n",
       "      <td>ATLANTIC</td>\n",
       "      <td>0110</td>\n",
       "      <td>ATLANTIC CITY</td>\n",
       "      <td>010</td>\n",
       "      <td>ATLANTIC CITY HIGH SCHOOL</td>\n",
       "      <td>No</td>\n",
       "      <td>Yes</td>\n",
       "      <td>Black or African American</td>\n",
       "    </tr>\n",
       "  </tbody>\n",
       "</table>\n",
       "</div>"
      ],
      "text/plain": [
       "  County Code County Name District Code  District Name School Code  \\\n",
       "0          01    ATLANTIC          0010   ABSECON CITY         050   \n",
       "1          01    ATLANTIC          0110  ATLANTIC CITY         010   \n",
       "\n",
       "                 School Name  \\\n",
       "0             EMMA C ATTALES   \n",
       "1  ATLANTIC CITY HIGH SCHOOL   \n",
       "\n",
       "  School Requires Comprehensive Support - As of 2017-18  \\\n",
       "0                                                 No      \n",
       "1                                                 No      \n",
       "\n",
       "  Any Student Group(s) Requiring Targeted Support - As of 2017-18  \\\n",
       "0                                                Yes                \n",
       "1                                                Yes                \n",
       "\n",
       "  Student Group(s) Requiring Targeted Support - As of 2017-18  \n",
       "0                         Students with Disabilities           \n",
       "1                          Black or African American           "
      ]
     },
     "execution_count": 11,
     "metadata": {},
     "output_type": "execute_result"
    }
   ],
   "source": [
    "import os\n",
    "import pandas as pd\n",
    "import numpy as np\n",
    "\n",
    "#df = pd.read_excel('narrative_raw.xlsx')\n",
    "df = pd.read_csv('raw.csv',index_col = False, dtype = {\"County Code\": str,\"District Code\": str,\"School Code\": str})\n",
    "df.head(2)"
   ]
  },
  {
   "cell_type": "markdown",
   "metadata": {},
   "source": [
    "### Check number of columns and rows"
   ]
  },
  {
   "cell_type": "code",
   "execution_count": 12,
   "metadata": {},
   "outputs": [
    {
     "data": {
      "text/plain": [
       "(272, 9)"
      ]
     },
     "execution_count": 12,
     "metadata": {},
     "output_type": "execute_result"
    }
   ],
   "source": [
    "df.shape"
   ]
  },
  {
   "cell_type": "markdown",
   "metadata": {},
   "source": [
    "### Adding columns from 2016-17 table"
   ]
  },
  {
   "cell_type": "code",
   "execution_count": 13,
   "metadata": {},
   "outputs": [],
   "source": [
    "#df['Principal'] = 'NA'\n",
    "#df['SchoolAddress1'] = 'NA'\n",
    "#df['SchoolAddress2'] = 'NA'\n",
    "df['Year'] = '2017-18'"
   ]
  },
  {
   "cell_type": "markdown",
   "metadata": {},
   "source": [
    "### Check if columns are added properly"
   ]
  },
  {
   "cell_type": "code",
   "execution_count": 14,
   "metadata": {
    "scrolled": true
   },
   "outputs": [
    {
     "data": {
      "text/html": [
       "<div>\n",
       "<style scoped>\n",
       "    .dataframe tbody tr th:only-of-type {\n",
       "        vertical-align: middle;\n",
       "    }\n",
       "\n",
       "    .dataframe tbody tr th {\n",
       "        vertical-align: top;\n",
       "    }\n",
       "\n",
       "    .dataframe thead th {\n",
       "        text-align: right;\n",
       "    }\n",
       "</style>\n",
       "<table border=\"1\" class=\"dataframe\">\n",
       "  <thead>\n",
       "    <tr style=\"text-align: right;\">\n",
       "      <th></th>\n",
       "      <th>County Code</th>\n",
       "      <th>County Name</th>\n",
       "      <th>District Code</th>\n",
       "      <th>District Name</th>\n",
       "      <th>School Code</th>\n",
       "      <th>School Name</th>\n",
       "      <th>School Requires Comprehensive Support - As of 2017-18</th>\n",
       "      <th>Any Student Group(s) Requiring Targeted Support - As of 2017-18</th>\n",
       "      <th>Student Group(s) Requiring Targeted Support - As of 2017-18</th>\n",
       "      <th>Year</th>\n",
       "    </tr>\n",
       "  </thead>\n",
       "  <tbody>\n",
       "    <tr>\n",
       "      <th>0</th>\n",
       "      <td>01</td>\n",
       "      <td>ATLANTIC</td>\n",
       "      <td>0010</td>\n",
       "      <td>ABSECON CITY</td>\n",
       "      <td>050</td>\n",
       "      <td>EMMA C ATTALES</td>\n",
       "      <td>No</td>\n",
       "      <td>Yes</td>\n",
       "      <td>Students with Disabilities</td>\n",
       "      <td>2017-18</td>\n",
       "    </tr>\n",
       "    <tr>\n",
       "      <th>1</th>\n",
       "      <td>01</td>\n",
       "      <td>ATLANTIC</td>\n",
       "      <td>0110</td>\n",
       "      <td>ATLANTIC CITY</td>\n",
       "      <td>010</td>\n",
       "      <td>ATLANTIC CITY HIGH SCHOOL</td>\n",
       "      <td>No</td>\n",
       "      <td>Yes</td>\n",
       "      <td>Black or African American</td>\n",
       "      <td>2017-18</td>\n",
       "    </tr>\n",
       "    <tr>\n",
       "      <th>2</th>\n",
       "      <td>01</td>\n",
       "      <td>ATLANTIC</td>\n",
       "      <td>0110</td>\n",
       "      <td>ATLANTIC CITY</td>\n",
       "      <td>050</td>\n",
       "      <td>CHELSEA HEIGHTS SCHOOL</td>\n",
       "      <td>No</td>\n",
       "      <td>Yes</td>\n",
       "      <td>Black or African American</td>\n",
       "      <td>2017-18</td>\n",
       "    </tr>\n",
       "    <tr>\n",
       "      <th>3</th>\n",
       "      <td>01</td>\n",
       "      <td>ATLANTIC</td>\n",
       "      <td>0110</td>\n",
       "      <td>ATLANTIC CITY</td>\n",
       "      <td>070</td>\n",
       "      <td>NEW YORK AVENUE SCHOOL</td>\n",
       "      <td>Yes</td>\n",
       "      <td>Yes</td>\n",
       "      <td>Hispanic; Students with Disabilities</td>\n",
       "      <td>2017-18</td>\n",
       "    </tr>\n",
       "    <tr>\n",
       "      <th>4</th>\n",
       "      <td>01</td>\n",
       "      <td>ATLANTIC</td>\n",
       "      <td>0110</td>\n",
       "      <td>ATLANTIC CITY</td>\n",
       "      <td>080</td>\n",
       "      <td>UPTOWN SCHOOL COMPLEX</td>\n",
       "      <td>Yes</td>\n",
       "      <td>Yes</td>\n",
       "      <td>Hispanic; Black or African American; Economica...</td>\n",
       "      <td>2017-18</td>\n",
       "    </tr>\n",
       "  </tbody>\n",
       "</table>\n",
       "</div>"
      ],
      "text/plain": [
       "  County Code County Name District Code  District Name School Code  \\\n",
       "0          01    ATLANTIC          0010   ABSECON CITY         050   \n",
       "1          01    ATLANTIC          0110  ATLANTIC CITY         010   \n",
       "2          01    ATLANTIC          0110  ATLANTIC CITY         050   \n",
       "3          01    ATLANTIC          0110  ATLANTIC CITY         070   \n",
       "4          01    ATLANTIC          0110  ATLANTIC CITY         080   \n",
       "\n",
       "                 School Name  \\\n",
       "0             EMMA C ATTALES   \n",
       "1  ATLANTIC CITY HIGH SCHOOL   \n",
       "2     CHELSEA HEIGHTS SCHOOL   \n",
       "3     NEW YORK AVENUE SCHOOL   \n",
       "4      UPTOWN SCHOOL COMPLEX   \n",
       "\n",
       "  School Requires Comprehensive Support - As of 2017-18  \\\n",
       "0                                                 No      \n",
       "1                                                 No      \n",
       "2                                                 No      \n",
       "3                                                Yes      \n",
       "4                                                Yes      \n",
       "\n",
       "  Any Student Group(s) Requiring Targeted Support - As of 2017-18  \\\n",
       "0                                                Yes                \n",
       "1                                                Yes                \n",
       "2                                                Yes                \n",
       "3                                                Yes                \n",
       "4                                                Yes                \n",
       "\n",
       "  Student Group(s) Requiring Targeted Support - As of 2017-18     Year  \n",
       "0                         Students with Disabilities           2017-18  \n",
       "1                          Black or African American           2017-18  \n",
       "2                          Black or African American           2017-18  \n",
       "3               Hispanic; Students with Disabilities           2017-18  \n",
       "4  Hispanic; Black or African American; Economica...           2017-18  "
      ]
     },
     "execution_count": 14,
     "metadata": {},
     "output_type": "execute_result"
    }
   ],
   "source": [
    "df.head()"
   ]
  },
  {
   "cell_type": "markdown",
   "metadata": {},
   "source": [
    "### Check missing values"
   ]
  },
  {
   "cell_type": "code",
   "execution_count": 15,
   "metadata": {
    "scrolled": true
   },
   "outputs": [
    {
     "data": {
      "text/plain": [
       "County Code                                                         0\n",
       "County Name                                                         0\n",
       "District Code                                                       0\n",
       "District Name                                                       0\n",
       "School Code                                                         0\n",
       "School Name                                                         0\n",
       "School Requires Comprehensive Support - As of 2017-18               0\n",
       "Any Student Group(s) Requiring Targeted Support - As of 2017-18     0\n",
       "Student Group(s) Requiring Targeted Support - As of 2017-18        20\n",
       "Year                                                                0\n",
       "dtype: int64"
      ]
     },
     "execution_count": 15,
     "metadata": {},
     "output_type": "execute_result"
    }
   ],
   "source": [
    "df.isnull().sum()"
   ]
  },
  {
   "cell_type": "markdown",
   "metadata": {},
   "source": [
    "### Fill missing values"
   ]
  },
  {
   "cell_type": "code",
   "execution_count": 16,
   "metadata": {},
   "outputs": [],
   "source": [
    "df = df.fillna('NA')"
   ]
  },
  {
   "cell_type": "markdown",
   "metadata": {},
   "source": [
    "### Check again if missing values are dealt properly"
   ]
  },
  {
   "cell_type": "code",
   "execution_count": 17,
   "metadata": {},
   "outputs": [
    {
     "data": {
      "text/plain": [
       "County Code                                                        0\n",
       "County Name                                                        0\n",
       "District Code                                                      0\n",
       "District Name                                                      0\n",
       "School Code                                                        0\n",
       "School Name                                                        0\n",
       "School Requires Comprehensive Support - As of 2017-18              0\n",
       "Any Student Group(s) Requiring Targeted Support - As of 2017-18    0\n",
       "Student Group(s) Requiring Targeted Support - As of 2017-18        0\n",
       "Year                                                               0\n",
       "dtype: int64"
      ]
     },
     "execution_count": 17,
     "metadata": {},
     "output_type": "execute_result"
    }
   ],
   "source": [
    "df.isnull().sum()"
   ]
  },
  {
   "cell_type": "markdown",
   "metadata": {},
   "source": [
    "### Check for meaningless values such as '**','N'\n"
   ]
  },
  {
   "cell_type": "code",
   "execution_count": 18,
   "metadata": {},
   "outputs": [],
   "source": [
    "df['School Requires Comprehensive Support - As of 2017-18'] = df['School Requires Comprehensive Support - As of 2017-18'].replace('**','NA')\n",
    "df['School Requires Comprehensive Support - As of 2017-18'] = df['School Requires Comprehensive Support - As of 2017-18'].replace('N','NA')\n",
    "\n",
    "df['Any Student Group(s) Requiring Targeted Support - As of 2017-18'] = df['Any Student Group(s) Requiring Targeted Support - As of 2017-18'].replace('**','NA')\n",
    "df['Any Student Group(s) Requiring Targeted Support - As of 2017-18'] = df['Any Student Group(s) Requiring Targeted Support - As of 2017-18'].replace('N','NA')\n",
    "\n",
    "df['Student Group(s) Requiring Targeted Support - As of 2017-18'] = df['Student Group(s) Requiring Targeted Support - As of 2017-18'].replace('**','NA')\n",
    "df['Student Group(s) Requiring Targeted Support - As of 2017-18'] = df['Student Group(s) Requiring Targeted Support - As of 2017-18'].replace('N','NA')"
   ]
  },
  {
   "cell_type": "markdown",
   "metadata": {},
   "source": [
    "### Check Data types of all columns"
   ]
  },
  {
   "cell_type": "code",
   "execution_count": 19,
   "metadata": {
    "scrolled": true
   },
   "outputs": [
    {
     "data": {
      "text/plain": [
       "County Code                                                        object\n",
       "County Name                                                        object\n",
       "District Code                                                      object\n",
       "District Name                                                      object\n",
       "School Code                                                        object\n",
       "School Name                                                        object\n",
       "School Requires Comprehensive Support - As of 2017-18              object\n",
       "Any Student Group(s) Requiring Targeted Support - As of 2017-18    object\n",
       "Student Group(s) Requiring Targeted Support - As of 2017-18        object\n",
       "Year                                                               object\n",
       "dtype: object"
      ]
     },
     "execution_count": 19,
     "metadata": {},
     "output_type": "execute_result"
    }
   ],
   "source": [
    "df.dtypes"
   ]
  },
  {
   "cell_type": "markdown",
   "metadata": {},
   "source": [
    "### Change Data types "
   ]
  },
  {
   "cell_type": "code",
   "execution_count": 10,
   "metadata": {},
   "outputs": [],
   "source": [
    "#df[\"Female\"] = df[\"Female\"].astype(float)\n"
   ]
  },
  {
   "cell_type": "markdown",
   "metadata": {},
   "source": [
    "### Check the changed data types"
   ]
  },
  {
   "cell_type": "code",
   "execution_count": 20,
   "metadata": {},
   "outputs": [],
   "source": [
    "#df.dtypes"
   ]
  },
  {
   "cell_type": "markdown",
   "metadata": {},
   "source": [
    "### Get a look at final data"
   ]
  },
  {
   "cell_type": "code",
   "execution_count": 21,
   "metadata": {},
   "outputs": [
    {
     "data": {
      "text/html": [
       "<div>\n",
       "<style scoped>\n",
       "    .dataframe tbody tr th:only-of-type {\n",
       "        vertical-align: middle;\n",
       "    }\n",
       "\n",
       "    .dataframe tbody tr th {\n",
       "        vertical-align: top;\n",
       "    }\n",
       "\n",
       "    .dataframe thead th {\n",
       "        text-align: right;\n",
       "    }\n",
       "</style>\n",
       "<table border=\"1\" class=\"dataframe\">\n",
       "  <thead>\n",
       "    <tr style=\"text-align: right;\">\n",
       "      <th></th>\n",
       "      <th>County Code</th>\n",
       "      <th>County Name</th>\n",
       "      <th>District Code</th>\n",
       "      <th>District Name</th>\n",
       "      <th>School Code</th>\n",
       "      <th>School Name</th>\n",
       "      <th>School Requires Comprehensive Support - As of 2017-18</th>\n",
       "      <th>Any Student Group(s) Requiring Targeted Support - As of 2017-18</th>\n",
       "      <th>Student Group(s) Requiring Targeted Support - As of 2017-18</th>\n",
       "      <th>Year</th>\n",
       "    </tr>\n",
       "  </thead>\n",
       "  <tbody>\n",
       "    <tr>\n",
       "      <th>0</th>\n",
       "      <td>01</td>\n",
       "      <td>ATLANTIC</td>\n",
       "      <td>0010</td>\n",
       "      <td>ABSECON CITY</td>\n",
       "      <td>050</td>\n",
       "      <td>EMMA C ATTALES</td>\n",
       "      <td>No</td>\n",
       "      <td>Yes</td>\n",
       "      <td>Students with Disabilities</td>\n",
       "      <td>2017-18</td>\n",
       "    </tr>\n",
       "    <tr>\n",
       "      <th>1</th>\n",
       "      <td>01</td>\n",
       "      <td>ATLANTIC</td>\n",
       "      <td>0110</td>\n",
       "      <td>ATLANTIC CITY</td>\n",
       "      <td>010</td>\n",
       "      <td>ATLANTIC CITY HIGH SCHOOL</td>\n",
       "      <td>No</td>\n",
       "      <td>Yes</td>\n",
       "      <td>Black or African American</td>\n",
       "      <td>2017-18</td>\n",
       "    </tr>\n",
       "    <tr>\n",
       "      <th>2</th>\n",
       "      <td>01</td>\n",
       "      <td>ATLANTIC</td>\n",
       "      <td>0110</td>\n",
       "      <td>ATLANTIC CITY</td>\n",
       "      <td>050</td>\n",
       "      <td>CHELSEA HEIGHTS SCHOOL</td>\n",
       "      <td>No</td>\n",
       "      <td>Yes</td>\n",
       "      <td>Black or African American</td>\n",
       "      <td>2017-18</td>\n",
       "    </tr>\n",
       "    <tr>\n",
       "      <th>3</th>\n",
       "      <td>01</td>\n",
       "      <td>ATLANTIC</td>\n",
       "      <td>0110</td>\n",
       "      <td>ATLANTIC CITY</td>\n",
       "      <td>070</td>\n",
       "      <td>NEW YORK AVENUE SCHOOL</td>\n",
       "      <td>Yes</td>\n",
       "      <td>Yes</td>\n",
       "      <td>Hispanic; Students with Disabilities</td>\n",
       "      <td>2017-18</td>\n",
       "    </tr>\n",
       "    <tr>\n",
       "      <th>4</th>\n",
       "      <td>01</td>\n",
       "      <td>ATLANTIC</td>\n",
       "      <td>0110</td>\n",
       "      <td>ATLANTIC CITY</td>\n",
       "      <td>080</td>\n",
       "      <td>UPTOWN SCHOOL COMPLEX</td>\n",
       "      <td>Yes</td>\n",
       "      <td>Yes</td>\n",
       "      <td>Hispanic; Black or African American; Economica...</td>\n",
       "      <td>2017-18</td>\n",
       "    </tr>\n",
       "  </tbody>\n",
       "</table>\n",
       "</div>"
      ],
      "text/plain": [
       "  County Code County Name District Code  District Name School Code  \\\n",
       "0          01    ATLANTIC          0010   ABSECON CITY         050   \n",
       "1          01    ATLANTIC          0110  ATLANTIC CITY         010   \n",
       "2          01    ATLANTIC          0110  ATLANTIC CITY         050   \n",
       "3          01    ATLANTIC          0110  ATLANTIC CITY         070   \n",
       "4          01    ATLANTIC          0110  ATLANTIC CITY         080   \n",
       "\n",
       "                 School Name  \\\n",
       "0             EMMA C ATTALES   \n",
       "1  ATLANTIC CITY HIGH SCHOOL   \n",
       "2     CHELSEA HEIGHTS SCHOOL   \n",
       "3     NEW YORK AVENUE SCHOOL   \n",
       "4      UPTOWN SCHOOL COMPLEX   \n",
       "\n",
       "  School Requires Comprehensive Support - As of 2017-18  \\\n",
       "0                                                 No      \n",
       "1                                                 No      \n",
       "2                                                 No      \n",
       "3                                                Yes      \n",
       "4                                                Yes      \n",
       "\n",
       "  Any Student Group(s) Requiring Targeted Support - As of 2017-18  \\\n",
       "0                                                Yes                \n",
       "1                                                Yes                \n",
       "2                                                Yes                \n",
       "3                                                Yes                \n",
       "4                                                Yes                \n",
       "\n",
       "  Student Group(s) Requiring Targeted Support - As of 2017-18     Year  \n",
       "0                         Students with Disabilities           2017-18  \n",
       "1                          Black or African American           2017-18  \n",
       "2                          Black or African American           2017-18  \n",
       "3               Hispanic; Students with Disabilities           2017-18  \n",
       "4  Hispanic; Black or African American; Economica...           2017-18  "
      ]
     },
     "execution_count": 21,
     "metadata": {},
     "output_type": "execute_result"
    }
   ],
   "source": [
    "df.head()"
   ]
  },
  {
   "cell_type": "code",
   "execution_count": 22,
   "metadata": {},
   "outputs": [],
   "source": [
    "#df1.to_csv(df1.csv)\n",
    "df.to_csv('CompTargetedList.csv', encoding='utf-8', index=False)"
   ]
  },
  {
   "cell_type": "code",
   "execution_count": null,
   "metadata": {},
   "outputs": [],
   "source": [
    "#x= df1.to_excel('output1.xlsx')  # doctest: +SKIP"
   ]
  }
 ],
 "metadata": {
  "kernelspec": {
   "display_name": "Python 3",
   "language": "python",
   "name": "python3"
  },
  "language_info": {
   "codemirror_mode": {
    "name": "ipython",
    "version": 3
   },
   "file_extension": ".py",
   "mimetype": "text/x-python",
   "name": "python",
   "nbconvert_exporter": "python",
   "pygments_lexer": "ipython3",
   "version": "3.7.3"
  }
 },
 "nbformat": 4,
 "nbformat_minor": 2
}
