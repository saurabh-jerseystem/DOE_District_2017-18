{
 "cells": [
  {
   "cell_type": "code",
   "execution_count": 1,
   "metadata": {},
   "outputs": [
    {
     "data": {
      "text/html": [
       "<div>\n",
       "<style scoped>\n",
       "    .dataframe tbody tr th:only-of-type {\n",
       "        vertical-align: middle;\n",
       "    }\n",
       "\n",
       "    .dataframe tbody tr th {\n",
       "        vertical-align: top;\n",
       "    }\n",
       "\n",
       "    .dataframe thead th {\n",
       "        text-align: right;\n",
       "    }\n",
       "</style>\n",
       "<table border=\"1\" class=\"dataframe\">\n",
       "  <thead>\n",
       "    <tr style=\"text-align: right;\">\n",
       "      <th></th>\n",
       "      <th>STATE</th>\n",
       "      <th>Category</th>\n",
       "      <th>Percentage of Students Overall</th>\n",
       "      <th>Percentage of Low Income Students in Title I Schools</th>\n",
       "      <th>Percentage of Non-Low Income Students in Non-Title I Schools</th>\n",
       "      <th>Percentage of Minority Students in Title I Schools</th>\n",
       "      <th>Percentage of Non-Minority Students in Non-Title I Schools</th>\n",
       "    </tr>\n",
       "  </thead>\n",
       "  <tbody>\n",
       "    <tr>\n",
       "      <th>0</th>\n",
       "      <td>State</td>\n",
       "      <td>Students taught by one or more teachers who ar...</td>\n",
       "      <td>12.19%</td>\n",
       "      <td>14.41%</td>\n",
       "      <td>9.72%</td>\n",
       "      <td>13.72%</td>\n",
       "      <td>9.35%</td>\n",
       "    </tr>\n",
       "    <tr>\n",
       "      <th>1</th>\n",
       "      <td>State</td>\n",
       "      <td>Students taught by one or more ineffective tea...</td>\n",
       "      <td>0.35%</td>\n",
       "      <td>0.74%</td>\n",
       "      <td>0.09%</td>\n",
       "      <td>0.62%</td>\n",
       "      <td>0.10%</td>\n",
       "    </tr>\n",
       "  </tbody>\n",
       "</table>\n",
       "</div>"
      ],
      "text/plain": [
       "   STATE                                           Category  \\\n",
       "0  State  Students taught by one or more teachers who ar...   \n",
       "1  State  Students taught by one or more ineffective tea...   \n",
       "\n",
       "  Percentage of Students Overall  \\\n",
       "0                         12.19%   \n",
       "1                          0.35%   \n",
       "\n",
       "  Percentage of Low Income Students in Title I Schools  \\\n",
       "0                                             14.41%     \n",
       "1                                              0.74%     \n",
       "\n",
       "  Percentage of Non-Low Income Students in Non-Title I Schools  \\\n",
       "0                                              9.72%             \n",
       "1                                              0.09%             \n",
       "\n",
       "  Percentage of Minority Students in Title I Schools  \\\n",
       "0                                             13.72%   \n",
       "1                                              0.62%   \n",
       "\n",
       "  Percentage of Non-Minority Students in Non-Title I Schools  \n",
       "0                                              9.35%          \n",
       "1                                              0.10%          "
      ]
     },
     "execution_count": 1,
     "metadata": {},
     "output_type": "execute_result"
    }
   ],
   "source": [
    "import os\n",
    "import pandas as pd\n",
    "import numpy as np\n",
    "\n",
    "#df = pd.read_excel('narrative_raw.xlsx')\n",
    "df = pd.read_csv('raw.csv',index_col = False, dtype = {\"CountyCode\": str,\"DistrictCode\": str,\"SchoolCode\": str})\n",
    "df.head(2)"
   ]
  },
  {
   "cell_type": "markdown",
   "metadata": {},
   "source": [
    "### Check number of columns and rows"
   ]
  },
  {
   "cell_type": "code",
   "execution_count": 2,
   "metadata": {},
   "outputs": [
    {
     "data": {
      "text/plain": [
       "(3, 7)"
      ]
     },
     "execution_count": 2,
     "metadata": {},
     "output_type": "execute_result"
    }
   ],
   "source": [
    "df.shape"
   ]
  },
  {
   "cell_type": "markdown",
   "metadata": {},
   "source": [
    "### Adding columns from 2016-17 table"
   ]
  },
  {
   "cell_type": "code",
   "execution_count": 3,
   "metadata": {},
   "outputs": [],
   "source": [
    "#df['Principal'] = 'NA'\n",
    "#df['SchoolAddress1'] = 'NA'\n",
    "#df['SchoolAddress2'] = 'NA'\n",
    "df['Year'] = '2017-18'"
   ]
  },
  {
   "cell_type": "markdown",
   "metadata": {},
   "source": [
    "### Check if columns are added properly"
   ]
  },
  {
   "cell_type": "code",
   "execution_count": 10,
   "metadata": {
    "scrolled": true
   },
   "outputs": [
    {
     "data": {
      "text/html": [
       "<div>\n",
       "<style scoped>\n",
       "    .dataframe tbody tr th:only-of-type {\n",
       "        vertical-align: middle;\n",
       "    }\n",
       "\n",
       "    .dataframe tbody tr th {\n",
       "        vertical-align: top;\n",
       "    }\n",
       "\n",
       "    .dataframe thead th {\n",
       "        text-align: right;\n",
       "    }\n",
       "</style>\n",
       "<table border=\"1\" class=\"dataframe\">\n",
       "  <thead>\n",
       "    <tr style=\"text-align: right;\">\n",
       "      <th></th>\n",
       "      <th>STATE</th>\n",
       "      <th>Category</th>\n",
       "      <th>Percentage of Students Overall</th>\n",
       "      <th>Percentage of Low Income Students in Title I Schools</th>\n",
       "      <th>Percentage of Non-Low Income Students in Non-Title I Schools</th>\n",
       "      <th>Percentage of Minority Students in Title I Schools</th>\n",
       "      <th>Percentage of Non-Minority Students in Non-Title I Schools</th>\n",
       "      <th>Year</th>\n",
       "    </tr>\n",
       "  </thead>\n",
       "  <tbody>\n",
       "    <tr>\n",
       "      <th>0</th>\n",
       "      <td>State</td>\n",
       "      <td>Students taught by one or more teachers who ar...</td>\n",
       "      <td>12.19%</td>\n",
       "      <td>14.41%</td>\n",
       "      <td>9.72%</td>\n",
       "      <td>13.72%</td>\n",
       "      <td>9.35%</td>\n",
       "      <td>2017-18</td>\n",
       "    </tr>\n",
       "    <tr>\n",
       "      <th>1</th>\n",
       "      <td>State</td>\n",
       "      <td>Students taught by one or more ineffective tea...</td>\n",
       "      <td>0.35%</td>\n",
       "      <td>0.74%</td>\n",
       "      <td>0.09%</td>\n",
       "      <td>0.62%</td>\n",
       "      <td>0.10%</td>\n",
       "      <td>2017-18</td>\n",
       "    </tr>\n",
       "    <tr>\n",
       "      <th>2</th>\n",
       "      <td>State</td>\n",
       "      <td>Students taught by one or more inexperienced t...</td>\n",
       "      <td>77.03%</td>\n",
       "      <td>77.46%</td>\n",
       "      <td>75.76%</td>\n",
       "      <td>77.87%</td>\n",
       "      <td>76.41%</td>\n",
       "      <td>2017-18</td>\n",
       "    </tr>\n",
       "  </tbody>\n",
       "</table>\n",
       "</div>"
      ],
      "text/plain": [
       "   STATE                                           Category  \\\n",
       "0  State  Students taught by one or more teachers who ar...   \n",
       "1  State  Students taught by one or more ineffective tea...   \n",
       "2  State  Students taught by one or more inexperienced t...   \n",
       "\n",
       "  Percentage of Students Overall  \\\n",
       "0                         12.19%   \n",
       "1                          0.35%   \n",
       "2                         77.03%   \n",
       "\n",
       "  Percentage of Low Income Students in Title I Schools  \\\n",
       "0                                             14.41%     \n",
       "1                                              0.74%     \n",
       "2                                             77.46%     \n",
       "\n",
       "  Percentage of Non-Low Income Students in Non-Title I Schools  \\\n",
       "0                                              9.72%             \n",
       "1                                              0.09%             \n",
       "2                                             75.76%             \n",
       "\n",
       "  Percentage of Minority Students in Title I Schools  \\\n",
       "0                                             13.72%   \n",
       "1                                              0.62%   \n",
       "2                                             77.87%   \n",
       "\n",
       "  Percentage of Non-Minority Students in Non-Title I Schools     Year  \n",
       "0                                              9.35%          2017-18  \n",
       "1                                              0.10%          2017-18  \n",
       "2                                             76.41%          2017-18  "
      ]
     },
     "execution_count": 10,
     "metadata": {},
     "output_type": "execute_result"
    }
   ],
   "source": [
    "df.head()"
   ]
  },
  {
   "cell_type": "markdown",
   "metadata": {},
   "source": [
    "### Check missing values"
   ]
  },
  {
   "cell_type": "code",
   "execution_count": 5,
   "metadata": {
    "scrolled": true
   },
   "outputs": [
    {
     "data": {
      "text/plain": [
       "STATE                                                           0\n",
       "Category                                                        0\n",
       "Percentage of Students Overall                                  0\n",
       "Percentage of Low Income Students in Title I Schools            0\n",
       "Percentage of Non-Low Income Students in Non-Title I Schools    0\n",
       "Percentage of Minority Students in Title I Schools              0\n",
       "Percentage of Non-Minority Students in Non-Title I Schools      0\n",
       "Year                                                            0\n",
       "dtype: int64"
      ]
     },
     "execution_count": 5,
     "metadata": {},
     "output_type": "execute_result"
    }
   ],
   "source": [
    "df.isnull().sum()"
   ]
  },
  {
   "cell_type": "markdown",
   "metadata": {},
   "source": [
    "### Fill missing values"
   ]
  },
  {
   "cell_type": "code",
   "execution_count": 6,
   "metadata": {},
   "outputs": [],
   "source": [
    "#df = df.fillna('NA')"
   ]
  },
  {
   "cell_type": "markdown",
   "metadata": {},
   "source": [
    "### Check again if missing values are dealt properly"
   ]
  },
  {
   "cell_type": "code",
   "execution_count": 6,
   "metadata": {},
   "outputs": [],
   "source": [
    "#df.isnull().sum()"
   ]
  },
  {
   "cell_type": "markdown",
   "metadata": {},
   "source": [
    "### Check for meaningless values such as '**','N'\n"
   ]
  },
  {
   "cell_type": "code",
   "execution_count": 7,
   "metadata": {},
   "outputs": [],
   "source": [
    "\n",
    "#df['PercentDaysPresent'] = df['PercentDaysPresent'].replace('**',9999999)\n",
    "\n",
    "#df['PercentDaysPresent'] = df['PercentDaysPresent'].replace('N',9999999)\n"
   ]
  },
  {
   "cell_type": "markdown",
   "metadata": {},
   "source": [
    "### Check Data types of all columns"
   ]
  },
  {
   "cell_type": "code",
   "execution_count": 11,
   "metadata": {
    "scrolled": true
   },
   "outputs": [
    {
     "data": {
      "text/plain": [
       "STATE                                                           object\n",
       "Category                                                        object\n",
       "Percentage of Students Overall                                  object\n",
       "Percentage of Low Income Students in Title I Schools            object\n",
       "Percentage of Non-Low Income Students in Non-Title I Schools    object\n",
       "Percentage of Minority Students in Title I Schools              object\n",
       "Percentage of Non-Minority Students in Non-Title I Schools      object\n",
       "Year                                                            object\n",
       "dtype: object"
      ]
     },
     "execution_count": 11,
     "metadata": {},
     "output_type": "execute_result"
    }
   ],
   "source": [
    "df.dtypes"
   ]
  },
  {
   "cell_type": "markdown",
   "metadata": {},
   "source": [
    "### Change Data types "
   ]
  },
  {
   "cell_type": "code",
   "execution_count": 9,
   "metadata": {},
   "outputs": [],
   "source": [
    "#df[\"PercentDaysPresent\"] = df[\"PercentDaysPresent\"].astype(float)"
   ]
  },
  {
   "cell_type": "markdown",
   "metadata": {},
   "source": [
    "### Check the changed data types"
   ]
  },
  {
   "cell_type": "code",
   "execution_count": 12,
   "metadata": {},
   "outputs": [],
   "source": [
    "#df.dtypes"
   ]
  },
  {
   "cell_type": "markdown",
   "metadata": {},
   "source": [
    "### Get a look at final data"
   ]
  },
  {
   "cell_type": "code",
   "execution_count": 13,
   "metadata": {},
   "outputs": [
    {
     "data": {
      "text/html": [
       "<div>\n",
       "<style scoped>\n",
       "    .dataframe tbody tr th:only-of-type {\n",
       "        vertical-align: middle;\n",
       "    }\n",
       "\n",
       "    .dataframe tbody tr th {\n",
       "        vertical-align: top;\n",
       "    }\n",
       "\n",
       "    .dataframe thead th {\n",
       "        text-align: right;\n",
       "    }\n",
       "</style>\n",
       "<table border=\"1\" class=\"dataframe\">\n",
       "  <thead>\n",
       "    <tr style=\"text-align: right;\">\n",
       "      <th></th>\n",
       "      <th>STATE</th>\n",
       "      <th>Category</th>\n",
       "      <th>Percentage of Students Overall</th>\n",
       "      <th>Percentage of Low Income Students in Title I Schools</th>\n",
       "      <th>Percentage of Non-Low Income Students in Non-Title I Schools</th>\n",
       "      <th>Percentage of Minority Students in Title I Schools</th>\n",
       "      <th>Percentage of Non-Minority Students in Non-Title I Schools</th>\n",
       "      <th>Year</th>\n",
       "    </tr>\n",
       "  </thead>\n",
       "  <tbody>\n",
       "    <tr>\n",
       "      <th>0</th>\n",
       "      <td>State</td>\n",
       "      <td>Students taught by one or more teachers who ar...</td>\n",
       "      <td>12.19%</td>\n",
       "      <td>14.41%</td>\n",
       "      <td>9.72%</td>\n",
       "      <td>13.72%</td>\n",
       "      <td>9.35%</td>\n",
       "      <td>2017-18</td>\n",
       "    </tr>\n",
       "    <tr>\n",
       "      <th>1</th>\n",
       "      <td>State</td>\n",
       "      <td>Students taught by one or more ineffective tea...</td>\n",
       "      <td>0.35%</td>\n",
       "      <td>0.74%</td>\n",
       "      <td>0.09%</td>\n",
       "      <td>0.62%</td>\n",
       "      <td>0.10%</td>\n",
       "      <td>2017-18</td>\n",
       "    </tr>\n",
       "    <tr>\n",
       "      <th>2</th>\n",
       "      <td>State</td>\n",
       "      <td>Students taught by one or more inexperienced t...</td>\n",
       "      <td>77.03%</td>\n",
       "      <td>77.46%</td>\n",
       "      <td>75.76%</td>\n",
       "      <td>77.87%</td>\n",
       "      <td>76.41%</td>\n",
       "      <td>2017-18</td>\n",
       "    </tr>\n",
       "  </tbody>\n",
       "</table>\n",
       "</div>"
      ],
      "text/plain": [
       "   STATE                                           Category  \\\n",
       "0  State  Students taught by one or more teachers who ar...   \n",
       "1  State  Students taught by one or more ineffective tea...   \n",
       "2  State  Students taught by one or more inexperienced t...   \n",
       "\n",
       "  Percentage of Students Overall  \\\n",
       "0                         12.19%   \n",
       "1                          0.35%   \n",
       "2                         77.03%   \n",
       "\n",
       "  Percentage of Low Income Students in Title I Schools  \\\n",
       "0                                             14.41%     \n",
       "1                                              0.74%     \n",
       "2                                             77.46%     \n",
       "\n",
       "  Percentage of Non-Low Income Students in Non-Title I Schools  \\\n",
       "0                                              9.72%             \n",
       "1                                              0.09%             \n",
       "2                                             75.76%             \n",
       "\n",
       "  Percentage of Minority Students in Title I Schools  \\\n",
       "0                                             13.72%   \n",
       "1                                              0.62%   \n",
       "2                                             77.87%   \n",
       "\n",
       "  Percentage of Non-Minority Students in Non-Title I Schools     Year  \n",
       "0                                              9.35%          2017-18  \n",
       "1                                              0.10%          2017-18  \n",
       "2                                             76.41%          2017-18  "
      ]
     },
     "execution_count": 13,
     "metadata": {},
     "output_type": "execute_result"
    }
   ],
   "source": [
    "df.head()"
   ]
  },
  {
   "cell_type": "code",
   "execution_count": 14,
   "metadata": {},
   "outputs": [],
   "source": [
    "#df1.to_csv(df1.csv)\n",
    "df.to_csv('StatewideEducatorEquity.csv', encoding='utf-8', index=False)"
   ]
  },
  {
   "cell_type": "code",
   "execution_count": null,
   "metadata": {},
   "outputs": [],
   "source": [
    "#x= df1.to_excel('output1.xlsx')  # doctest: +SKIP"
   ]
  }
 ],
 "metadata": {
  "kernelspec": {
   "display_name": "Python 3",
   "language": "python",
   "name": "python3"
  },
  "language_info": {
   "codemirror_mode": {
    "name": "ipython",
    "version": 3
   },
   "file_extension": ".py",
   "mimetype": "text/x-python",
   "name": "python",
   "nbconvert_exporter": "python",
   "pygments_lexer": "ipython3",
   "version": "3.7.3"
  }
 },
 "nbformat": 4,
 "nbformat_minor": 2
}
