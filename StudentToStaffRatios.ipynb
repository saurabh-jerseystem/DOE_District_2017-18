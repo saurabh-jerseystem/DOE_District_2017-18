{
 "cells": [
  {
   "cell_type": "code",
   "execution_count": 13,
   "metadata": {},
   "outputs": [
    {
     "data": {
      "text/html": [
       "<div>\n",
       "<style scoped>\n",
       "    .dataframe tbody tr th:only-of-type {\n",
       "        vertical-align: middle;\n",
       "    }\n",
       "\n",
       "    .dataframe tbody tr th {\n",
       "        vertical-align: top;\n",
       "    }\n",
       "\n",
       "    .dataframe thead th {\n",
       "        text-align: right;\n",
       "    }\n",
       "</style>\n",
       "<table border=\"1\" class=\"dataframe\">\n",
       "  <thead>\n",
       "    <tr style=\"text-align: right;\">\n",
       "      <th></th>\n",
       "      <th>CountyCode</th>\n",
       "      <th>CountyName</th>\n",
       "      <th>DistrictCode</th>\n",
       "      <th>DistrictName</th>\n",
       "      <th>Student_Teacher_District</th>\n",
       "      <th>Student_Admin_District</th>\n",
       "      <th>Teacher_Admin_District</th>\n",
       "      <th>Student_Librarian_District</th>\n",
       "      <th>Student_Nurse_District</th>\n",
       "      <th>Student_Counselor_District</th>\n",
       "      <th>Student_ChildStudy_District</th>\n",
       "    </tr>\n",
       "  </thead>\n",
       "  <tbody>\n",
       "    <tr>\n",
       "      <th>0</th>\n",
       "      <td>01</td>\n",
       "      <td>ATLANTIC</td>\n",
       "      <td>0010</td>\n",
       "      <td>ABSECON CITY</td>\n",
       "      <td>13:1</td>\n",
       "      <td>174:1</td>\n",
       "      <td>14:1</td>\n",
       "      <td>868:1</td>\n",
       "      <td>868:1</td>\n",
       "      <td>868:1</td>\n",
       "      <td>434:1</td>\n",
       "    </tr>\n",
       "    <tr>\n",
       "      <th>1</th>\n",
       "      <td>01</td>\n",
       "      <td>ATLANTIC</td>\n",
       "      <td>0110</td>\n",
       "      <td>ATLANTIC CITY</td>\n",
       "      <td>11:1</td>\n",
       "      <td>224:1</td>\n",
       "      <td>21:1</td>\n",
       "      <td>992:1</td>\n",
       "      <td>631:1</td>\n",
       "      <td>347:1</td>\n",
       "      <td>434:1</td>\n",
       "    </tr>\n",
       "  </tbody>\n",
       "</table>\n",
       "</div>"
      ],
      "text/plain": [
       "  CountyCode CountyName DistrictCode   DistrictName Student_Teacher_District  \\\n",
       "0         01   ATLANTIC         0010   ABSECON CITY                     13:1   \n",
       "1         01   ATLANTIC         0110  ATLANTIC CITY                     11:1   \n",
       "\n",
       "  Student_Admin_District Teacher_Admin_District Student_Librarian_District  \\\n",
       "0                  174:1                   14:1                      868:1   \n",
       "1                  224:1                   21:1                      992:1   \n",
       "\n",
       "  Student_Nurse_District Student_Counselor_District  \\\n",
       "0                  868:1                      868:1   \n",
       "1                  631:1                      347:1   \n",
       "\n",
       "  Student_ChildStudy_District  \n",
       "0                       434:1  \n",
       "1                       434:1  "
      ]
     },
     "execution_count": 13,
     "metadata": {},
     "output_type": "execute_result"
    }
   ],
   "source": [
    "import os\n",
    "import pandas as pd\n",
    "import numpy as np\n",
    "\n",
    "#df = pd.read_excel('narrative_raw.xlsx')\n",
    "df = pd.read_csv('raw.csv',index_col = False, dtype = {\"CountyCode\": str,\"DistrictCode\": str,\"SchoolCode\": str})\n",
    "df.head(2)"
   ]
  },
  {
   "cell_type": "markdown",
   "metadata": {},
   "source": [
    "### Check number of columns and rows"
   ]
  },
  {
   "cell_type": "code",
   "execution_count": 14,
   "metadata": {},
   "outputs": [
    {
     "data": {
      "text/plain": [
       "(675, 11)"
      ]
     },
     "execution_count": 14,
     "metadata": {},
     "output_type": "execute_result"
    }
   ],
   "source": [
    "df.shape"
   ]
  },
  {
   "cell_type": "markdown",
   "metadata": {},
   "source": [
    "### Adding columns from 2016-17 table"
   ]
  },
  {
   "cell_type": "code",
   "execution_count": 15,
   "metadata": {},
   "outputs": [],
   "source": [
    "#df['Principal'] = 'NA'\n",
    "#df['SchoolAddress1'] = 'NA'\n",
    "#df['SchoolAddress2'] = 'NA'\n",
    "df['Year'] = '2017-18'"
   ]
  },
  {
   "cell_type": "markdown",
   "metadata": {},
   "source": [
    "### Check if columns are added properly"
   ]
  },
  {
   "cell_type": "code",
   "execution_count": 16,
   "metadata": {
    "scrolled": true
   },
   "outputs": [
    {
     "data": {
      "text/html": [
       "<div>\n",
       "<style scoped>\n",
       "    .dataframe tbody tr th:only-of-type {\n",
       "        vertical-align: middle;\n",
       "    }\n",
       "\n",
       "    .dataframe tbody tr th {\n",
       "        vertical-align: top;\n",
       "    }\n",
       "\n",
       "    .dataframe thead th {\n",
       "        text-align: right;\n",
       "    }\n",
       "</style>\n",
       "<table border=\"1\" class=\"dataframe\">\n",
       "  <thead>\n",
       "    <tr style=\"text-align: right;\">\n",
       "      <th></th>\n",
       "      <th>CountyCode</th>\n",
       "      <th>CountyName</th>\n",
       "      <th>DistrictCode</th>\n",
       "      <th>DistrictName</th>\n",
       "      <th>Student_Teacher_District</th>\n",
       "      <th>Student_Admin_District</th>\n",
       "      <th>Teacher_Admin_District</th>\n",
       "      <th>Student_Librarian_District</th>\n",
       "      <th>Student_Nurse_District</th>\n",
       "      <th>Student_Counselor_District</th>\n",
       "      <th>Student_ChildStudy_District</th>\n",
       "      <th>Year</th>\n",
       "    </tr>\n",
       "  </thead>\n",
       "  <tbody>\n",
       "    <tr>\n",
       "      <th>0</th>\n",
       "      <td>01</td>\n",
       "      <td>ATLANTIC</td>\n",
       "      <td>0010</td>\n",
       "      <td>ABSECON CITY</td>\n",
       "      <td>13:1</td>\n",
       "      <td>174:1</td>\n",
       "      <td>14:1</td>\n",
       "      <td>868:1</td>\n",
       "      <td>868:1</td>\n",
       "      <td>868:1</td>\n",
       "      <td>434:1</td>\n",
       "      <td>2017-18</td>\n",
       "    </tr>\n",
       "    <tr>\n",
       "      <th>1</th>\n",
       "      <td>01</td>\n",
       "      <td>ATLANTIC</td>\n",
       "      <td>0110</td>\n",
       "      <td>ATLANTIC CITY</td>\n",
       "      <td>11:1</td>\n",
       "      <td>224:1</td>\n",
       "      <td>21:1</td>\n",
       "      <td>992:1</td>\n",
       "      <td>631:1</td>\n",
       "      <td>347:1</td>\n",
       "      <td>434:1</td>\n",
       "      <td>2017-18</td>\n",
       "    </tr>\n",
       "  </tbody>\n",
       "</table>\n",
       "</div>"
      ],
      "text/plain": [
       "  CountyCode CountyName DistrictCode   DistrictName Student_Teacher_District  \\\n",
       "0         01   ATLANTIC         0010   ABSECON CITY                     13:1   \n",
       "1         01   ATLANTIC         0110  ATLANTIC CITY                     11:1   \n",
       "\n",
       "  Student_Admin_District Teacher_Admin_District Student_Librarian_District  \\\n",
       "0                  174:1                   14:1                      868:1   \n",
       "1                  224:1                   21:1                      992:1   \n",
       "\n",
       "  Student_Nurse_District Student_Counselor_District  \\\n",
       "0                  868:1                      868:1   \n",
       "1                  631:1                      347:1   \n",
       "\n",
       "  Student_ChildStudy_District     Year  \n",
       "0                       434:1  2017-18  \n",
       "1                       434:1  2017-18  "
      ]
     },
     "execution_count": 16,
     "metadata": {},
     "output_type": "execute_result"
    }
   ],
   "source": [
    "df.head(2)"
   ]
  },
  {
   "cell_type": "markdown",
   "metadata": {},
   "source": [
    "### Check missing values"
   ]
  },
  {
   "cell_type": "code",
   "execution_count": 17,
   "metadata": {
    "scrolled": true
   },
   "outputs": [
    {
     "data": {
      "text/plain": [
       "CountyCode                     0\n",
       "CountyName                     0\n",
       "DistrictCode                   0\n",
       "DistrictName                   0\n",
       "Student_Teacher_District       0\n",
       "Student_Admin_District         0\n",
       "Teacher_Admin_District         0\n",
       "Student_Librarian_District     0\n",
       "Student_Nurse_District         0\n",
       "Student_Counselor_District     0\n",
       "Student_ChildStudy_District    0\n",
       "Year                           0\n",
       "dtype: int64"
      ]
     },
     "execution_count": 17,
     "metadata": {},
     "output_type": "execute_result"
    }
   ],
   "source": [
    "df.isnull().sum()"
   ]
  },
  {
   "cell_type": "markdown",
   "metadata": {},
   "source": [
    "### Fill missing values"
   ]
  },
  {
   "cell_type": "code",
   "execution_count": 6,
   "metadata": {},
   "outputs": [],
   "source": [
    "#df = df.fillna('NA')"
   ]
  },
  {
   "cell_type": "markdown",
   "metadata": {},
   "source": [
    "### Check again if missing values are dealt properly"
   ]
  },
  {
   "cell_type": "code",
   "execution_count": 6,
   "metadata": {},
   "outputs": [],
   "source": [
    "#df.isnull().sum()"
   ]
  },
  {
   "cell_type": "markdown",
   "metadata": {},
   "source": [
    "### Check for meaningless values such as '**','N'\n"
   ]
  },
  {
   "cell_type": "code",
   "execution_count": 18,
   "metadata": {},
   "outputs": [],
   "source": [
    "df['Student_Teacher_District'] = df['Student_Teacher_District'].replace('**','NA')\n",
    "df['Student_Teacher_District'] = df['Student_Teacher_District'].replace('N','NA')\n",
    "\n",
    "df['Student_Admin_District'] = df['Student_Admin_District'].replace('**','NA')\n",
    "df['Student_Admin_District'] = df['Student_Admin_District'].replace('N','NA')\n",
    "\n",
    "df['Student_Librarian_District'] = df['Student_Librarian_District'].replace('**','NA')\n",
    "df['Student_Librarian_District'] = df['Student_Librarian_District'].replace('N','NA')\n",
    "\n",
    "df['Student_Nurse_District'] = df['Student_Nurse_District'].replace('**','NA')\n",
    "df['Student_Nurse_District'] = df['Student_Nurse_District'].replace('N','NA')\n",
    "\n",
    "df['Student_Nurse_District'] = df['Student_Nurse_District'].replace('**','NA')\n",
    "df['Student_Nurse_District'] = df['Student_Nurse_District'].replace('N','NA')\n",
    "\n",
    "df['Student_Counselor_District'] = df['Student_Counselor_District'].replace('**','NA')\n",
    "df['Student_Counselor_District'] = df['Student_Counselor_District'].replace('N','NA')\n",
    "\n",
    "df['Student_ChildStudy_District'] = df['Student_ChildStudy_District'].replace('**','NA')\n",
    "df['Student_ChildStudy_District'] = df['Student_ChildStudy_District'].replace('N','NA')"
   ]
  },
  {
   "cell_type": "markdown",
   "metadata": {},
   "source": [
    "### Check Data types of all columns"
   ]
  },
  {
   "cell_type": "code",
   "execution_count": 19,
   "metadata": {
    "scrolled": true
   },
   "outputs": [
    {
     "data": {
      "text/plain": [
       "CountyCode                     object\n",
       "CountyName                     object\n",
       "DistrictCode                   object\n",
       "DistrictName                   object\n",
       "Student_Teacher_District       object\n",
       "Student_Admin_District         object\n",
       "Teacher_Admin_District         object\n",
       "Student_Librarian_District     object\n",
       "Student_Nurse_District         object\n",
       "Student_Counselor_District     object\n",
       "Student_ChildStudy_District    object\n",
       "Year                           object\n",
       "dtype: object"
      ]
     },
     "execution_count": 19,
     "metadata": {},
     "output_type": "execute_result"
    }
   ],
   "source": [
    "df.dtypes"
   ]
  },
  {
   "cell_type": "markdown",
   "metadata": {},
   "source": [
    "### Change Data types "
   ]
  },
  {
   "cell_type": "code",
   "execution_count": 8,
   "metadata": {},
   "outputs": [],
   "source": [
    "#df[\"Federal\"] = df[\"Federal\"].astype(int)"
   ]
  },
  {
   "cell_type": "markdown",
   "metadata": {},
   "source": [
    "### Check the changed data types"
   ]
  },
  {
   "cell_type": "code",
   "execution_count": 7,
   "metadata": {},
   "outputs": [],
   "source": [
    "#df.dtypes"
   ]
  },
  {
   "cell_type": "markdown",
   "metadata": {},
   "source": [
    "### Get a look at final data"
   ]
  },
  {
   "cell_type": "code",
   "execution_count": 20,
   "metadata": {},
   "outputs": [
    {
     "data": {
      "text/html": [
       "<div>\n",
       "<style scoped>\n",
       "    .dataframe tbody tr th:only-of-type {\n",
       "        vertical-align: middle;\n",
       "    }\n",
       "\n",
       "    .dataframe tbody tr th {\n",
       "        vertical-align: top;\n",
       "    }\n",
       "\n",
       "    .dataframe thead th {\n",
       "        text-align: right;\n",
       "    }\n",
       "</style>\n",
       "<table border=\"1\" class=\"dataframe\">\n",
       "  <thead>\n",
       "    <tr style=\"text-align: right;\">\n",
       "      <th></th>\n",
       "      <th>CountyCode</th>\n",
       "      <th>CountyName</th>\n",
       "      <th>DistrictCode</th>\n",
       "      <th>DistrictName</th>\n",
       "      <th>Student_Teacher_District</th>\n",
       "      <th>Student_Admin_District</th>\n",
       "      <th>Teacher_Admin_District</th>\n",
       "      <th>Student_Librarian_District</th>\n",
       "      <th>Student_Nurse_District</th>\n",
       "      <th>Student_Counselor_District</th>\n",
       "      <th>Student_ChildStudy_District</th>\n",
       "      <th>Year</th>\n",
       "    </tr>\n",
       "  </thead>\n",
       "  <tbody>\n",
       "    <tr>\n",
       "      <th>0</th>\n",
       "      <td>01</td>\n",
       "      <td>ATLANTIC</td>\n",
       "      <td>0010</td>\n",
       "      <td>ABSECON CITY</td>\n",
       "      <td>13:1</td>\n",
       "      <td>174:1</td>\n",
       "      <td>14:1</td>\n",
       "      <td>868:1</td>\n",
       "      <td>868:1</td>\n",
       "      <td>868:1</td>\n",
       "      <td>434:1</td>\n",
       "      <td>2017-18</td>\n",
       "    </tr>\n",
       "    <tr>\n",
       "      <th>1</th>\n",
       "      <td>01</td>\n",
       "      <td>ATLANTIC</td>\n",
       "      <td>0110</td>\n",
       "      <td>ATLANTIC CITY</td>\n",
       "      <td>11:1</td>\n",
       "      <td>224:1</td>\n",
       "      <td>21:1</td>\n",
       "      <td>992:1</td>\n",
       "      <td>631:1</td>\n",
       "      <td>347:1</td>\n",
       "      <td>434:1</td>\n",
       "      <td>2017-18</td>\n",
       "    </tr>\n",
       "    <tr>\n",
       "      <th>2</th>\n",
       "      <td>01</td>\n",
       "      <td>ATLANTIC</td>\n",
       "      <td>0120</td>\n",
       "      <td>ATLANTIC CO VOCATIONAL</td>\n",
       "      <td>12:1</td>\n",
       "      <td>177:1</td>\n",
       "      <td>15:1</td>\n",
       "      <td>1591:1</td>\n",
       "      <td>530:1</td>\n",
       "      <td>227:1</td>\n",
       "      <td>796:1</td>\n",
       "      <td>2017-18</td>\n",
       "    </tr>\n",
       "    <tr>\n",
       "      <th>3</th>\n",
       "      <td>01</td>\n",
       "      <td>ATLANTIC</td>\n",
       "      <td>0125</td>\n",
       "      <td>ATLANTIC CO SPECIAL SERV</td>\n",
       "      <td>6:1</td>\n",
       "      <td>50:1</td>\n",
       "      <td>8:1</td>\n",
       "      <td>NA</td>\n",
       "      <td>117:1</td>\n",
       "      <td>NA</td>\n",
       "      <td>39:1</td>\n",
       "      <td>2017-18</td>\n",
       "    </tr>\n",
       "    <tr>\n",
       "      <th>4</th>\n",
       "      <td>01</td>\n",
       "      <td>ATLANTIC</td>\n",
       "      <td>0570</td>\n",
       "      <td>BRIGANTINE CITY</td>\n",
       "      <td>8:1</td>\n",
       "      <td>96:1</td>\n",
       "      <td>11:1</td>\n",
       "      <td>NA</td>\n",
       "      <td>287:1</td>\n",
       "      <td>287:1</td>\n",
       "      <td>144:1</td>\n",
       "      <td>2017-18</td>\n",
       "    </tr>\n",
       "  </tbody>\n",
       "</table>\n",
       "</div>"
      ],
      "text/plain": [
       "  CountyCode CountyName DistrictCode              DistrictName  \\\n",
       "0         01   ATLANTIC         0010              ABSECON CITY   \n",
       "1         01   ATLANTIC         0110             ATLANTIC CITY   \n",
       "2         01   ATLANTIC         0120    ATLANTIC CO VOCATIONAL   \n",
       "3         01   ATLANTIC         0125  ATLANTIC CO SPECIAL SERV   \n",
       "4         01   ATLANTIC         0570           BRIGANTINE CITY   \n",
       "\n",
       "  Student_Teacher_District Student_Admin_District Teacher_Admin_District  \\\n",
       "0                     13:1                  174:1                   14:1   \n",
       "1                     11:1                  224:1                   21:1   \n",
       "2                     12:1                  177:1                   15:1   \n",
       "3                      6:1                   50:1                    8:1   \n",
       "4                      8:1                   96:1                   11:1   \n",
       "\n",
       "  Student_Librarian_District Student_Nurse_District  \\\n",
       "0                      868:1                  868:1   \n",
       "1                      992:1                  631:1   \n",
       "2                     1591:1                  530:1   \n",
       "3                         NA                  117:1   \n",
       "4                         NA                  287:1   \n",
       "\n",
       "  Student_Counselor_District Student_ChildStudy_District     Year  \n",
       "0                      868:1                       434:1  2017-18  \n",
       "1                      347:1                       434:1  2017-18  \n",
       "2                      227:1                       796:1  2017-18  \n",
       "3                         NA                        39:1  2017-18  \n",
       "4                      287:1                       144:1  2017-18  "
      ]
     },
     "execution_count": 20,
     "metadata": {},
     "output_type": "execute_result"
    }
   ],
   "source": [
    "df.head()"
   ]
  },
  {
   "cell_type": "code",
   "execution_count": 21,
   "metadata": {},
   "outputs": [],
   "source": [
    "#df1.to_csv(df1.csv)\n",
    "df.to_csv('StudentToStaffRatios.csv', encoding='utf-8', index=False)"
   ]
  },
  {
   "cell_type": "code",
   "execution_count": null,
   "metadata": {},
   "outputs": [],
   "source": [
    "#x= df1.to_excel('output1.xlsx')  # doctest: +SKIP"
   ]
  }
 ],
 "metadata": {
  "kernelspec": {
   "display_name": "Python 3",
   "language": "python",
   "name": "python3"
  },
  "language_info": {
   "codemirror_mode": {
    "name": "ipython",
    "version": 3
   },
   "file_extension": ".py",
   "mimetype": "text/x-python",
   "name": "python",
   "nbconvert_exporter": "python",
   "pygments_lexer": "ipython3",
   "version": "3.7.3"
  }
 },
 "nbformat": 4,
 "nbformat_minor": 2
}
