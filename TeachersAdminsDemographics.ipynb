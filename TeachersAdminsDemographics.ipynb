{
 "cells": [
  {
   "cell_type": "code",
   "execution_count": 1,
   "metadata": {},
   "outputs": [
    {
     "data": {
      "text/html": [
       "<div>\n",
       "<style scoped>\n",
       "    .dataframe tbody tr th:only-of-type {\n",
       "        vertical-align: middle;\n",
       "    }\n",
       "\n",
       "    .dataframe tbody tr th {\n",
       "        vertical-align: top;\n",
       "    }\n",
       "\n",
       "    .dataframe thead th {\n",
       "        text-align: right;\n",
       "    }\n",
       "</style>\n",
       "<table border=\"1\" class=\"dataframe\">\n",
       "  <thead>\n",
       "    <tr style=\"text-align: right;\">\n",
       "      <th></th>\n",
       "      <th>CountyCode</th>\n",
       "      <th>CountyName</th>\n",
       "      <th>DistrictCode</th>\n",
       "      <th>DistrictName</th>\n",
       "      <th>Teachers/Admins</th>\n",
       "      <th>Female</th>\n",
       "      <th>Male</th>\n",
       "      <th>White</th>\n",
       "      <th>Hispanic</th>\n",
       "      <th>Black or African American</th>\n",
       "      <th>Asian</th>\n",
       "      <th>American Indian or Alaska Native</th>\n",
       "      <th>Native Hawaiian or Pacific Islander</th>\n",
       "      <th>Two or More Races</th>\n",
       "    </tr>\n",
       "  </thead>\n",
       "  <tbody>\n",
       "    <tr>\n",
       "      <th>0</th>\n",
       "      <td>01</td>\n",
       "      <td>ATLANTIC</td>\n",
       "      <td>0010</td>\n",
       "      <td>ABSECON CITY</td>\n",
       "      <td>Admins</td>\n",
       "      <td>60.0</td>\n",
       "      <td>40.0</td>\n",
       "      <td>100.0</td>\n",
       "      <td>0.0</td>\n",
       "      <td>0.0</td>\n",
       "      <td>0.0</td>\n",
       "      <td>0.0</td>\n",
       "      <td>0.0</td>\n",
       "      <td>0.0</td>\n",
       "    </tr>\n",
       "    <tr>\n",
       "      <th>1</th>\n",
       "      <td>01</td>\n",
       "      <td>ATLANTIC</td>\n",
       "      <td>0010</td>\n",
       "      <td>ABSECON CITY</td>\n",
       "      <td>Teachers</td>\n",
       "      <td>83.8</td>\n",
       "      <td>16.2</td>\n",
       "      <td>95.6</td>\n",
       "      <td>2.9</td>\n",
       "      <td>0.0</td>\n",
       "      <td>0.0</td>\n",
       "      <td>0.0</td>\n",
       "      <td>0.0</td>\n",
       "      <td>1.5</td>\n",
       "    </tr>\n",
       "  </tbody>\n",
       "</table>\n",
       "</div>"
      ],
      "text/plain": [
       "  CountyCode CountyName DistrictCode  DistrictName Teachers/Admins Female  \\\n",
       "0         01   ATLANTIC         0010  ABSECON CITY          Admins   60.0   \n",
       "1         01   ATLANTIC         0010  ABSECON CITY        Teachers   83.8   \n",
       "\n",
       "   Male  White Hispanic Black or African American Asian  \\\n",
       "0  40.0  100.0      0.0                       0.0   0.0   \n",
       "1  16.2   95.6      2.9                       0.0   0.0   \n",
       "\n",
       "  American Indian or Alaska Native Native Hawaiian or Pacific Islander  \\\n",
       "0                              0.0                                 0.0   \n",
       "1                              0.0                                 0.0   \n",
       "\n",
       "  Two or More Races  \n",
       "0               0.0  \n",
       "1               1.5  "
      ]
     },
     "execution_count": 1,
     "metadata": {},
     "output_type": "execute_result"
    }
   ],
   "source": [
    "import os\n",
    "import pandas as pd\n",
    "import numpy as np\n",
    "\n",
    "#df = pd.read_excel('narrative_raw.xlsx')\n",
    "df = pd.read_csv('raw.csv',index_col = False, dtype = {\"CountyCode\": str,\"DistrictCode\": str,\"SchoolCode\": str})\n",
    "df.head(2)"
   ]
  },
  {
   "cell_type": "markdown",
   "metadata": {},
   "source": [
    "### Check number of columns and rows"
   ]
  },
  {
   "cell_type": "code",
   "execution_count": 2,
   "metadata": {},
   "outputs": [
    {
     "data": {
      "text/plain": [
       "(1350, 14)"
      ]
     },
     "execution_count": 2,
     "metadata": {},
     "output_type": "execute_result"
    }
   ],
   "source": [
    "df.shape"
   ]
  },
  {
   "cell_type": "markdown",
   "metadata": {},
   "source": [
    "### Adding columns from 2016-17 table"
   ]
  },
  {
   "cell_type": "code",
   "execution_count": 3,
   "metadata": {},
   "outputs": [],
   "source": [
    "#df['Principal'] = 'NA'\n",
    "#df['SchoolAddress1'] = 'NA'\n",
    "#df['SchoolAddress2'] = 'NA'\n",
    "df['Year'] = '2017-18'"
   ]
  },
  {
   "cell_type": "markdown",
   "metadata": {},
   "source": [
    "### Check if columns are added properly"
   ]
  },
  {
   "cell_type": "code",
   "execution_count": 4,
   "metadata": {
    "scrolled": true
   },
   "outputs": [
    {
     "data": {
      "text/html": [
       "<div>\n",
       "<style scoped>\n",
       "    .dataframe tbody tr th:only-of-type {\n",
       "        vertical-align: middle;\n",
       "    }\n",
       "\n",
       "    .dataframe tbody tr th {\n",
       "        vertical-align: top;\n",
       "    }\n",
       "\n",
       "    .dataframe thead th {\n",
       "        text-align: right;\n",
       "    }\n",
       "</style>\n",
       "<table border=\"1\" class=\"dataframe\">\n",
       "  <thead>\n",
       "    <tr style=\"text-align: right;\">\n",
       "      <th></th>\n",
       "      <th>CountyCode</th>\n",
       "      <th>CountyName</th>\n",
       "      <th>DistrictCode</th>\n",
       "      <th>DistrictName</th>\n",
       "      <th>Teachers/Admins</th>\n",
       "      <th>Female</th>\n",
       "      <th>Male</th>\n",
       "      <th>White</th>\n",
       "      <th>Hispanic</th>\n",
       "      <th>Black or African American</th>\n",
       "      <th>Asian</th>\n",
       "      <th>American Indian or Alaska Native</th>\n",
       "      <th>Native Hawaiian or Pacific Islander</th>\n",
       "      <th>Two or More Races</th>\n",
       "      <th>Year</th>\n",
       "    </tr>\n",
       "  </thead>\n",
       "  <tbody>\n",
       "    <tr>\n",
       "      <th>0</th>\n",
       "      <td>01</td>\n",
       "      <td>ATLANTIC</td>\n",
       "      <td>0010</td>\n",
       "      <td>ABSECON CITY</td>\n",
       "      <td>Admins</td>\n",
       "      <td>60.0</td>\n",
       "      <td>40.0</td>\n",
       "      <td>100.0</td>\n",
       "      <td>0.0</td>\n",
       "      <td>0.0</td>\n",
       "      <td>0.0</td>\n",
       "      <td>0.0</td>\n",
       "      <td>0.0</td>\n",
       "      <td>0.0</td>\n",
       "      <td>2017-18</td>\n",
       "    </tr>\n",
       "    <tr>\n",
       "      <th>1</th>\n",
       "      <td>01</td>\n",
       "      <td>ATLANTIC</td>\n",
       "      <td>0010</td>\n",
       "      <td>ABSECON CITY</td>\n",
       "      <td>Teachers</td>\n",
       "      <td>83.8</td>\n",
       "      <td>16.2</td>\n",
       "      <td>95.6</td>\n",
       "      <td>2.9</td>\n",
       "      <td>0.0</td>\n",
       "      <td>0.0</td>\n",
       "      <td>0.0</td>\n",
       "      <td>0.0</td>\n",
       "      <td>1.5</td>\n",
       "      <td>2017-18</td>\n",
       "    </tr>\n",
       "    <tr>\n",
       "      <th>2</th>\n",
       "      <td>01</td>\n",
       "      <td>ATLANTIC</td>\n",
       "      <td>0110</td>\n",
       "      <td>ATLANTIC CITY</td>\n",
       "      <td>Admins</td>\n",
       "      <td>64.5</td>\n",
       "      <td>35.5</td>\n",
       "      <td>25.8</td>\n",
       "      <td>3.2</td>\n",
       "      <td>64.5</td>\n",
       "      <td>3.2</td>\n",
       "      <td>0.0</td>\n",
       "      <td>0.0</td>\n",
       "      <td>3.2</td>\n",
       "      <td>2017-18</td>\n",
       "    </tr>\n",
       "    <tr>\n",
       "      <th>3</th>\n",
       "      <td>01</td>\n",
       "      <td>ATLANTIC</td>\n",
       "      <td>0110</td>\n",
       "      <td>ATLANTIC CITY</td>\n",
       "      <td>Teachers</td>\n",
       "      <td>70.6</td>\n",
       "      <td>29.4</td>\n",
       "      <td>60.1</td>\n",
       "      <td>10.1</td>\n",
       "      <td>26.8</td>\n",
       "      <td>1.7</td>\n",
       "      <td>0.0</td>\n",
       "      <td>0.0</td>\n",
       "      <td>1.2</td>\n",
       "      <td>2017-18</td>\n",
       "    </tr>\n",
       "    <tr>\n",
       "      <th>4</th>\n",
       "      <td>01</td>\n",
       "      <td>ATLANTIC</td>\n",
       "      <td>0120</td>\n",
       "      <td>ATLANTIC CO VOCATIONAL</td>\n",
       "      <td>Admins</td>\n",
       "      <td>44.4</td>\n",
       "      <td>55.6</td>\n",
       "      <td>88.9</td>\n",
       "      <td>0.0</td>\n",
       "      <td>11.1</td>\n",
       "      <td>0.0</td>\n",
       "      <td>0.0</td>\n",
       "      <td>0.0</td>\n",
       "      <td>0.0</td>\n",
       "      <td>2017-18</td>\n",
       "    </tr>\n",
       "  </tbody>\n",
       "</table>\n",
       "</div>"
      ],
      "text/plain": [
       "  CountyCode CountyName DistrictCode            DistrictName Teachers/Admins  \\\n",
       "0         01   ATLANTIC         0010            ABSECON CITY          Admins   \n",
       "1         01   ATLANTIC         0010            ABSECON CITY        Teachers   \n",
       "2         01   ATLANTIC         0110           ATLANTIC CITY          Admins   \n",
       "3         01   ATLANTIC         0110           ATLANTIC CITY        Teachers   \n",
       "4         01   ATLANTIC         0120  ATLANTIC CO VOCATIONAL          Admins   \n",
       "\n",
       "  Female  Male  White Hispanic Black or African American Asian  \\\n",
       "0   60.0  40.0  100.0      0.0                       0.0   0.0   \n",
       "1   83.8  16.2   95.6      2.9                       0.0   0.0   \n",
       "2   64.5  35.5   25.8      3.2                      64.5   3.2   \n",
       "3   70.6  29.4   60.1     10.1                      26.8   1.7   \n",
       "4   44.4  55.6   88.9      0.0                      11.1   0.0   \n",
       "\n",
       "  American Indian or Alaska Native Native Hawaiian or Pacific Islander  \\\n",
       "0                              0.0                                 0.0   \n",
       "1                              0.0                                 0.0   \n",
       "2                              0.0                                 0.0   \n",
       "3                              0.0                                 0.0   \n",
       "4                              0.0                                 0.0   \n",
       "\n",
       "  Two or More Races     Year  \n",
       "0               0.0  2017-18  \n",
       "1               1.5  2017-18  \n",
       "2               3.2  2017-18  \n",
       "3               1.2  2017-18  \n",
       "4               0.0  2017-18  "
      ]
     },
     "execution_count": 4,
     "metadata": {},
     "output_type": "execute_result"
    }
   ],
   "source": [
    "df.head()"
   ]
  },
  {
   "cell_type": "markdown",
   "metadata": {},
   "source": [
    "### Check missing values"
   ]
  },
  {
   "cell_type": "code",
   "execution_count": 5,
   "metadata": {
    "scrolled": true
   },
   "outputs": [
    {
     "data": {
      "text/plain": [
       "CountyCode                             0\n",
       "CountyName                             0\n",
       "DistrictCode                           0\n",
       "DistrictName                           0\n",
       "Teachers/Admins                        0\n",
       "Female                                 0\n",
       "Male                                   0\n",
       "White                                  0\n",
       "Hispanic                               0\n",
       "Black or African American              0\n",
       "Asian                                  0\n",
       "American Indian or Alaska Native       0\n",
       "Native Hawaiian or Pacific Islander    0\n",
       "Two or More Races                      0\n",
       "Year                                   0\n",
       "dtype: int64"
      ]
     },
     "execution_count": 5,
     "metadata": {},
     "output_type": "execute_result"
    }
   ],
   "source": [
    "df.isnull().sum()"
   ]
  },
  {
   "cell_type": "markdown",
   "metadata": {},
   "source": [
    "### Fill missing values"
   ]
  },
  {
   "cell_type": "code",
   "execution_count": 6,
   "metadata": {},
   "outputs": [],
   "source": [
    "#df = df.fillna('NA')"
   ]
  },
  {
   "cell_type": "markdown",
   "metadata": {},
   "source": [
    "### Check again if missing values are dealt properly"
   ]
  },
  {
   "cell_type": "code",
   "execution_count": 6,
   "metadata": {},
   "outputs": [
    {
     "data": {
      "text/plain": [
       "CountyCode                             0\n",
       "CountyName                             0\n",
       "DistrictCode                           0\n",
       "DistrictName                           0\n",
       "Teachers/Admins                        0\n",
       "Female                                 0\n",
       "Male                                   0\n",
       "White                                  0\n",
       "Hispanic                               0\n",
       "Black or African American              0\n",
       "Asian                                  0\n",
       "American Indian or Alaska Native       0\n",
       "Native Hawaiian or Pacific Islander    0\n",
       "Two or More Races                      0\n",
       "Year                                   0\n",
       "dtype: int64"
      ]
     },
     "execution_count": 6,
     "metadata": {},
     "output_type": "execute_result"
    }
   ],
   "source": [
    "df.isnull().sum()"
   ]
  },
  {
   "cell_type": "markdown",
   "metadata": {},
   "source": [
    "### Check for meaningless values such as '**','N'\n"
   ]
  },
  {
   "cell_type": "code",
   "execution_count": 7,
   "metadata": {},
   "outputs": [],
   "source": [
    "df['Teachers/Admins'] = df['Teachers/Admins'].replace('**','NA')\n",
    "df['Teachers/Admins'] = df['Teachers/Admins'].replace('N','NA')\n",
    "\n",
    "df['Female'] = df['Female'].replace('**',9999999)\n",
    "df['Female'] = df['Female'].replace('N',9999999)\n",
    "\n",
    "df['Male'] = df['Male'].replace('**',9999999)\n",
    "df['Male'] = df['Male'].replace('N',9999999)\n",
    "\n",
    "df['White'] = df['White'].replace('**',9999999)\n",
    "df['White'] = df['White'].replace('N',9999999)\n",
    "\n",
    "df['Hispanic'] = df['Hispanic'].replace('**',9999999)\n",
    "df['Hispanic'] = df['Hispanic'].replace('N',9999999)\n",
    "\n",
    "df['Black or African American'] = df['Black or African American'].replace('**',9999999)\n",
    "df['Black or African American'] = df['Black or African American'].replace('N',9999999)\n",
    "\n",
    "df['Asian'] = df['Asian'].replace('**',9999999)\n",
    "df['Asian'] = df['Asian'].replace('N',9999999)\n",
    "\n",
    "df['American Indian or Alaska Native'] = df['American Indian or Alaska Native'].replace('**',9999999)\n",
    "df['American Indian or Alaska Native'] = df['American Indian or Alaska Native'].replace('N',9999999)\n",
    "\n",
    "df['Native Hawaiian or Pacific Islander'] = df['Native Hawaiian or Pacific Islander'].replace('**',9999999)\n",
    "df['Native Hawaiian or Pacific Islander'] = df['Native Hawaiian or Pacific Islander'].replace('N',9999999)\n",
    "\n",
    "df['Two or More Races'] = df['Two or More Races'].replace('**',9999999)\n",
    "df['Two or More Races'] = df['Two or More Races'].replace('N',9999999)\n"
   ]
  },
  {
   "cell_type": "markdown",
   "metadata": {},
   "source": [
    "### Check Data types of all columns"
   ]
  },
  {
   "cell_type": "code",
   "execution_count": 8,
   "metadata": {
    "scrolled": true
   },
   "outputs": [
    {
     "data": {
      "text/plain": [
       "CountyCode                             object\n",
       "CountyName                             object\n",
       "DistrictCode                           object\n",
       "DistrictName                           object\n",
       "Teachers/Admins                        object\n",
       "Female                                 object\n",
       "Male                                   object\n",
       "White                                  object\n",
       "Hispanic                               object\n",
       "Black or African American              object\n",
       "Asian                                  object\n",
       "American Indian or Alaska Native       object\n",
       "Native Hawaiian or Pacific Islander    object\n",
       "Two or More Races                      object\n",
       "Year                                   object\n",
       "dtype: object"
      ]
     },
     "execution_count": 8,
     "metadata": {},
     "output_type": "execute_result"
    }
   ],
   "source": [
    "df.dtypes"
   ]
  },
  {
   "cell_type": "markdown",
   "metadata": {},
   "source": [
    "### Change Data types "
   ]
  },
  {
   "cell_type": "code",
   "execution_count": 10,
   "metadata": {},
   "outputs": [],
   "source": [
    "df[\"Female\"] = df[\"Female\"].astype(float)\n",
    "df[\"Male\"] = df[\"Male\"].astype(float)\n",
    "df[\"White\"] = df[\"White\"].astype(float)\n",
    "df[\"Hispanic\"] = df[\"Hispanic\"].astype(float)\n",
    "df[\"Black or African American\"] = df[\"Black or African American\"].astype(float)\n",
    "df[\"Asian\"] = df[\"Asian\"].astype(float)\n",
    "df[\"American Indian or Alaska Native\"] = df[\"American Indian or Alaska Native\"].astype(float)\n",
    "df[\"Native Hawaiian or Pacific Islander\"] = df[\"Native Hawaiian or Pacific Islander\"].astype(float)\n",
    "df[\"Two or More Races\"] = df[\"Two or More Races\"].astype(float)"
   ]
  },
  {
   "cell_type": "markdown",
   "metadata": {},
   "source": [
    "### Check the changed data types"
   ]
  },
  {
   "cell_type": "code",
   "execution_count": 11,
   "metadata": {},
   "outputs": [
    {
     "data": {
      "text/plain": [
       "CountyCode                              object\n",
       "CountyName                              object\n",
       "DistrictCode                            object\n",
       "DistrictName                            object\n",
       "Teachers/Admins                         object\n",
       "Female                                 float64\n",
       "Male                                   float64\n",
       "White                                  float64\n",
       "Hispanic                               float64\n",
       "Black or African American              float64\n",
       "Asian                                  float64\n",
       "American Indian or Alaska Native       float64\n",
       "Native Hawaiian or Pacific Islander    float64\n",
       "Two or More Races                      float64\n",
       "Year                                    object\n",
       "dtype: object"
      ]
     },
     "execution_count": 11,
     "metadata": {},
     "output_type": "execute_result"
    }
   ],
   "source": [
    "df.dtypes"
   ]
  },
  {
   "cell_type": "markdown",
   "metadata": {},
   "source": [
    "### Get a look at final data"
   ]
  },
  {
   "cell_type": "code",
   "execution_count": 12,
   "metadata": {},
   "outputs": [
    {
     "data": {
      "text/html": [
       "<div>\n",
       "<style scoped>\n",
       "    .dataframe tbody tr th:only-of-type {\n",
       "        vertical-align: middle;\n",
       "    }\n",
       "\n",
       "    .dataframe tbody tr th {\n",
       "        vertical-align: top;\n",
       "    }\n",
       "\n",
       "    .dataframe thead th {\n",
       "        text-align: right;\n",
       "    }\n",
       "</style>\n",
       "<table border=\"1\" class=\"dataframe\">\n",
       "  <thead>\n",
       "    <tr style=\"text-align: right;\">\n",
       "      <th></th>\n",
       "      <th>CountyCode</th>\n",
       "      <th>CountyName</th>\n",
       "      <th>DistrictCode</th>\n",
       "      <th>DistrictName</th>\n",
       "      <th>Teachers/Admins</th>\n",
       "      <th>Female</th>\n",
       "      <th>Male</th>\n",
       "      <th>White</th>\n",
       "      <th>Hispanic</th>\n",
       "      <th>Black or African American</th>\n",
       "      <th>Asian</th>\n",
       "      <th>American Indian or Alaska Native</th>\n",
       "      <th>Native Hawaiian or Pacific Islander</th>\n",
       "      <th>Two or More Races</th>\n",
       "      <th>Year</th>\n",
       "    </tr>\n",
       "  </thead>\n",
       "  <tbody>\n",
       "    <tr>\n",
       "      <th>0</th>\n",
       "      <td>01</td>\n",
       "      <td>ATLANTIC</td>\n",
       "      <td>0010</td>\n",
       "      <td>ABSECON CITY</td>\n",
       "      <td>Admins</td>\n",
       "      <td>60.0</td>\n",
       "      <td>40.0</td>\n",
       "      <td>100.0</td>\n",
       "      <td>0.0</td>\n",
       "      <td>0.0</td>\n",
       "      <td>0.0</td>\n",
       "      <td>0.0</td>\n",
       "      <td>0.0</td>\n",
       "      <td>0.0</td>\n",
       "      <td>2017-18</td>\n",
       "    </tr>\n",
       "    <tr>\n",
       "      <th>1</th>\n",
       "      <td>01</td>\n",
       "      <td>ATLANTIC</td>\n",
       "      <td>0010</td>\n",
       "      <td>ABSECON CITY</td>\n",
       "      <td>Teachers</td>\n",
       "      <td>83.8</td>\n",
       "      <td>16.2</td>\n",
       "      <td>95.6</td>\n",
       "      <td>2.9</td>\n",
       "      <td>0.0</td>\n",
       "      <td>0.0</td>\n",
       "      <td>0.0</td>\n",
       "      <td>0.0</td>\n",
       "      <td>1.5</td>\n",
       "      <td>2017-18</td>\n",
       "    </tr>\n",
       "    <tr>\n",
       "      <th>2</th>\n",
       "      <td>01</td>\n",
       "      <td>ATLANTIC</td>\n",
       "      <td>0110</td>\n",
       "      <td>ATLANTIC CITY</td>\n",
       "      <td>Admins</td>\n",
       "      <td>64.5</td>\n",
       "      <td>35.5</td>\n",
       "      <td>25.8</td>\n",
       "      <td>3.2</td>\n",
       "      <td>64.5</td>\n",
       "      <td>3.2</td>\n",
       "      <td>0.0</td>\n",
       "      <td>0.0</td>\n",
       "      <td>3.2</td>\n",
       "      <td>2017-18</td>\n",
       "    </tr>\n",
       "    <tr>\n",
       "      <th>3</th>\n",
       "      <td>01</td>\n",
       "      <td>ATLANTIC</td>\n",
       "      <td>0110</td>\n",
       "      <td>ATLANTIC CITY</td>\n",
       "      <td>Teachers</td>\n",
       "      <td>70.6</td>\n",
       "      <td>29.4</td>\n",
       "      <td>60.1</td>\n",
       "      <td>10.1</td>\n",
       "      <td>26.8</td>\n",
       "      <td>1.7</td>\n",
       "      <td>0.0</td>\n",
       "      <td>0.0</td>\n",
       "      <td>1.2</td>\n",
       "      <td>2017-18</td>\n",
       "    </tr>\n",
       "    <tr>\n",
       "      <th>4</th>\n",
       "      <td>01</td>\n",
       "      <td>ATLANTIC</td>\n",
       "      <td>0120</td>\n",
       "      <td>ATLANTIC CO VOCATIONAL</td>\n",
       "      <td>Admins</td>\n",
       "      <td>44.4</td>\n",
       "      <td>55.6</td>\n",
       "      <td>88.9</td>\n",
       "      <td>0.0</td>\n",
       "      <td>11.1</td>\n",
       "      <td>0.0</td>\n",
       "      <td>0.0</td>\n",
       "      <td>0.0</td>\n",
       "      <td>0.0</td>\n",
       "      <td>2017-18</td>\n",
       "    </tr>\n",
       "  </tbody>\n",
       "</table>\n",
       "</div>"
      ],
      "text/plain": [
       "  CountyCode CountyName DistrictCode            DistrictName Teachers/Admins  \\\n",
       "0         01   ATLANTIC         0010            ABSECON CITY          Admins   \n",
       "1         01   ATLANTIC         0010            ABSECON CITY        Teachers   \n",
       "2         01   ATLANTIC         0110           ATLANTIC CITY          Admins   \n",
       "3         01   ATLANTIC         0110           ATLANTIC CITY        Teachers   \n",
       "4         01   ATLANTIC         0120  ATLANTIC CO VOCATIONAL          Admins   \n",
       "\n",
       "   Female  Male  White  Hispanic  Black or African American  Asian  \\\n",
       "0    60.0  40.0  100.0       0.0                        0.0    0.0   \n",
       "1    83.8  16.2   95.6       2.9                        0.0    0.0   \n",
       "2    64.5  35.5   25.8       3.2                       64.5    3.2   \n",
       "3    70.6  29.4   60.1      10.1                       26.8    1.7   \n",
       "4    44.4  55.6   88.9       0.0                       11.1    0.0   \n",
       "\n",
       "   American Indian or Alaska Native  Native Hawaiian or Pacific Islander  \\\n",
       "0                               0.0                                  0.0   \n",
       "1                               0.0                                  0.0   \n",
       "2                               0.0                                  0.0   \n",
       "3                               0.0                                  0.0   \n",
       "4                               0.0                                  0.0   \n",
       "\n",
       "   Two or More Races     Year  \n",
       "0                0.0  2017-18  \n",
       "1                1.5  2017-18  \n",
       "2                3.2  2017-18  \n",
       "3                1.2  2017-18  \n",
       "4                0.0  2017-18  "
      ]
     },
     "execution_count": 12,
     "metadata": {},
     "output_type": "execute_result"
    }
   ],
   "source": [
    "df.head()"
   ]
  },
  {
   "cell_type": "code",
   "execution_count": 13,
   "metadata": {},
   "outputs": [],
   "source": [
    "#df1.to_csv(df1.csv)\n",
    "df.to_csv('TeachersAdminsDemographics.csv', encoding='utf-8', index=False)"
   ]
  },
  {
   "cell_type": "code",
   "execution_count": null,
   "metadata": {},
   "outputs": [],
   "source": [
    "#x= df1.to_excel('output1.xlsx')  # doctest: +SKIP"
   ]
  }
 ],
 "metadata": {
  "kernelspec": {
   "display_name": "Python 3",
   "language": "python",
   "name": "python3"
  },
  "language_info": {
   "codemirror_mode": {
    "name": "ipython",
    "version": 3
   },
   "file_extension": ".py",
   "mimetype": "text/x-python",
   "name": "python",
   "nbconvert_exporter": "python",
   "pygments_lexer": "ipython3",
   "version": "3.7.3"
  }
 },
 "nbformat": 4,
 "nbformat_minor": 2
}
