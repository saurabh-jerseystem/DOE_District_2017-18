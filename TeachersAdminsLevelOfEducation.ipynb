{
 "cells": [
  {
   "cell_type": "code",
   "execution_count": 1,
   "metadata": {},
   "outputs": [
    {
     "data": {
      "text/html": [
       "<div>\n",
       "<style scoped>\n",
       "    .dataframe tbody tr th:only-of-type {\n",
       "        vertical-align: middle;\n",
       "    }\n",
       "\n",
       "    .dataframe tbody tr th {\n",
       "        vertical-align: top;\n",
       "    }\n",
       "\n",
       "    .dataframe thead th {\n",
       "        text-align: right;\n",
       "    }\n",
       "</style>\n",
       "<table border=\"1\" class=\"dataframe\">\n",
       "  <thead>\n",
       "    <tr style=\"text-align: right;\">\n",
       "      <th></th>\n",
       "      <th>CountyCode</th>\n",
       "      <th>CountyName</th>\n",
       "      <th>DistrictCode</th>\n",
       "      <th>DistrictName</th>\n",
       "      <th>Teachers/Admins</th>\n",
       "      <th>Bachelors</th>\n",
       "      <th>Masters</th>\n",
       "      <th>Doctoral</th>\n",
       "    </tr>\n",
       "  </thead>\n",
       "  <tbody>\n",
       "    <tr>\n",
       "      <th>0</th>\n",
       "      <td>01</td>\n",
       "      <td>ATLANTIC</td>\n",
       "      <td>0010</td>\n",
       "      <td>ABSECON CITY</td>\n",
       "      <td>Admin</td>\n",
       "      <td>NaN</td>\n",
       "      <td>50</td>\n",
       "      <td>50</td>\n",
       "    </tr>\n",
       "    <tr>\n",
       "      <th>1</th>\n",
       "      <td>01</td>\n",
       "      <td>ATLANTIC</td>\n",
       "      <td>0010</td>\n",
       "      <td>ABSECON CITY</td>\n",
       "      <td>Teachers</td>\n",
       "      <td>58</td>\n",
       "      <td>41</td>\n",
       "      <td>2</td>\n",
       "    </tr>\n",
       "  </tbody>\n",
       "</table>\n",
       "</div>"
      ],
      "text/plain": [
       "  CountyCode CountyName DistrictCode  DistrictName Teachers/Admins Bachelors  \\\n",
       "0         01   ATLANTIC         0010  ABSECON CITY           Admin       NaN   \n",
       "1         01   ATLANTIC         0010  ABSECON CITY        Teachers        58   \n",
       "\n",
       "  Masters Doctoral  \n",
       "0      50       50  \n",
       "1      41        2  "
      ]
     },
     "execution_count": 1,
     "metadata": {},
     "output_type": "execute_result"
    }
   ],
   "source": [
    "import os\n",
    "import pandas as pd\n",
    "import numpy as np\n",
    "\n",
    "#df = pd.read_excel('narrative_raw.xlsx')\n",
    "df = pd.read_csv('raw.csv',index_col = False, dtype = {\"CountyCode\": str,\"DistrictCode\": str,\"SchoolCode\": str})\n",
    "df.head(2)"
   ]
  },
  {
   "cell_type": "markdown",
   "metadata": {},
   "source": [
    "### Check number of columns and rows"
   ]
  },
  {
   "cell_type": "code",
   "execution_count": 2,
   "metadata": {},
   "outputs": [
    {
     "data": {
      "text/plain": [
       "(1350, 8)"
      ]
     },
     "execution_count": 2,
     "metadata": {},
     "output_type": "execute_result"
    }
   ],
   "source": [
    "df.shape"
   ]
  },
  {
   "cell_type": "markdown",
   "metadata": {},
   "source": [
    "### Adding columns from 2016-17 table"
   ]
  },
  {
   "cell_type": "code",
   "execution_count": 3,
   "metadata": {},
   "outputs": [],
   "source": [
    "df['HighestLevelOfEducation'] = 'NA'\n",
    "df['HighestLevelEdPct'] = 'NA'\n",
    "df['Year'] = '2017-18'"
   ]
  },
  {
   "cell_type": "markdown",
   "metadata": {},
   "source": [
    "### Check if columns are added properly"
   ]
  },
  {
   "cell_type": "code",
   "execution_count": 6,
   "metadata": {
    "scrolled": true
   },
   "outputs": [
    {
     "data": {
      "text/html": [
       "<div>\n",
       "<style scoped>\n",
       "    .dataframe tbody tr th:only-of-type {\n",
       "        vertical-align: middle;\n",
       "    }\n",
       "\n",
       "    .dataframe tbody tr th {\n",
       "        vertical-align: top;\n",
       "    }\n",
       "\n",
       "    .dataframe thead th {\n",
       "        text-align: right;\n",
       "    }\n",
       "</style>\n",
       "<table border=\"1\" class=\"dataframe\">\n",
       "  <thead>\n",
       "    <tr style=\"text-align: right;\">\n",
       "      <th></th>\n",
       "      <th>CountyCode</th>\n",
       "      <th>CountyName</th>\n",
       "      <th>DistrictCode</th>\n",
       "      <th>DistrictName</th>\n",
       "      <th>Teachers/Admins</th>\n",
       "      <th>Bachelors</th>\n",
       "      <th>Masters</th>\n",
       "      <th>Doctoral</th>\n",
       "      <th>HighestLevelOfEducation</th>\n",
       "      <th>HighestLevelEdPct</th>\n",
       "      <th>Year</th>\n",
       "    </tr>\n",
       "  </thead>\n",
       "  <tbody>\n",
       "    <tr>\n",
       "      <th>0</th>\n",
       "      <td>01</td>\n",
       "      <td>ATLANTIC</td>\n",
       "      <td>0010</td>\n",
       "      <td>ABSECON CITY</td>\n",
       "      <td>Admin</td>\n",
       "      <td>NaN</td>\n",
       "      <td>50</td>\n",
       "      <td>50</td>\n",
       "      <td>NA</td>\n",
       "      <td>NA</td>\n",
       "      <td>2017-18</td>\n",
       "    </tr>\n",
       "    <tr>\n",
       "      <th>1</th>\n",
       "      <td>01</td>\n",
       "      <td>ATLANTIC</td>\n",
       "      <td>0010</td>\n",
       "      <td>ABSECON CITY</td>\n",
       "      <td>Teachers</td>\n",
       "      <td>58</td>\n",
       "      <td>41</td>\n",
       "      <td>2</td>\n",
       "      <td>NA</td>\n",
       "      <td>NA</td>\n",
       "      <td>2017-18</td>\n",
       "    </tr>\n",
       "    <tr>\n",
       "      <th>2</th>\n",
       "      <td>01</td>\n",
       "      <td>ATLANTIC</td>\n",
       "      <td>0110</td>\n",
       "      <td>ATLANTIC CITY</td>\n",
       "      <td>Admin</td>\n",
       "      <td>NaN</td>\n",
       "      <td>94</td>\n",
       "      <td>6</td>\n",
       "      <td>NA</td>\n",
       "      <td>NA</td>\n",
       "      <td>2017-18</td>\n",
       "    </tr>\n",
       "    <tr>\n",
       "      <th>3</th>\n",
       "      <td>01</td>\n",
       "      <td>ATLANTIC</td>\n",
       "      <td>0110</td>\n",
       "      <td>ATLANTIC CITY</td>\n",
       "      <td>Teachers</td>\n",
       "      <td>57</td>\n",
       "      <td>41</td>\n",
       "      <td>1</td>\n",
       "      <td>NA</td>\n",
       "      <td>NA</td>\n",
       "      <td>2017-18</td>\n",
       "    </tr>\n",
       "    <tr>\n",
       "      <th>4</th>\n",
       "      <td>01</td>\n",
       "      <td>ATLANTIC</td>\n",
       "      <td>0120</td>\n",
       "      <td>ATLANTIC CO VOCATIONAL</td>\n",
       "      <td>Admin</td>\n",
       "      <td>NaN</td>\n",
       "      <td>78</td>\n",
       "      <td>22</td>\n",
       "      <td>NA</td>\n",
       "      <td>NA</td>\n",
       "      <td>2017-18</td>\n",
       "    </tr>\n",
       "  </tbody>\n",
       "</table>\n",
       "</div>"
      ],
      "text/plain": [
       "  CountyCode CountyName DistrictCode            DistrictName Teachers/Admins  \\\n",
       "0         01   ATLANTIC         0010            ABSECON CITY           Admin   \n",
       "1         01   ATLANTIC         0010            ABSECON CITY        Teachers   \n",
       "2         01   ATLANTIC         0110           ATLANTIC CITY           Admin   \n",
       "3         01   ATLANTIC         0110           ATLANTIC CITY        Teachers   \n",
       "4         01   ATLANTIC         0120  ATLANTIC CO VOCATIONAL           Admin   \n",
       "\n",
       "  Bachelors Masters Doctoral HighestLevelOfEducation HighestLevelEdPct  \\\n",
       "0       NaN      50       50                      NA                NA   \n",
       "1        58      41        2                      NA                NA   \n",
       "2       NaN      94        6                      NA                NA   \n",
       "3        57      41        1                      NA                NA   \n",
       "4       NaN      78       22                      NA                NA   \n",
       "\n",
       "      Year  \n",
       "0  2017-18  \n",
       "1  2017-18  \n",
       "2  2017-18  \n",
       "3  2017-18  \n",
       "4  2017-18  "
      ]
     },
     "execution_count": 6,
     "metadata": {},
     "output_type": "execute_result"
    }
   ],
   "source": [
    "df.head()"
   ]
  },
  {
   "cell_type": "markdown",
   "metadata": {},
   "source": [
    "### Check missing values"
   ]
  },
  {
   "cell_type": "code",
   "execution_count": 7,
   "metadata": {
    "scrolled": true
   },
   "outputs": [
    {
     "data": {
      "text/plain": [
       "CountyCode                   0\n",
       "CountyName                   0\n",
       "DistrictCode                 0\n",
       "DistrictName                 0\n",
       "Teachers/Admins              0\n",
       "Bachelors                  675\n",
       "Masters                      0\n",
       "Doctoral                     0\n",
       "HighestLevelOfEducation      0\n",
       "HighestLevelEdPct            0\n",
       "Year                         0\n",
       "dtype: int64"
      ]
     },
     "execution_count": 7,
     "metadata": {},
     "output_type": "execute_result"
    }
   ],
   "source": [
    "df.isnull().sum()"
   ]
  },
  {
   "cell_type": "markdown",
   "metadata": {},
   "source": [
    "### Fill missing values"
   ]
  },
  {
   "cell_type": "code",
   "execution_count": 8,
   "metadata": {},
   "outputs": [],
   "source": [
    "df = df.fillna('9999999')"
   ]
  },
  {
   "cell_type": "markdown",
   "metadata": {},
   "source": [
    "### Check again if missing values are dealt properly"
   ]
  },
  {
   "cell_type": "code",
   "execution_count": 9,
   "metadata": {},
   "outputs": [
    {
     "data": {
      "text/plain": [
       "CountyCode                 0\n",
       "CountyName                 0\n",
       "DistrictCode               0\n",
       "DistrictName               0\n",
       "Teachers/Admins            0\n",
       "Bachelors                  0\n",
       "Masters                    0\n",
       "Doctoral                   0\n",
       "HighestLevelOfEducation    0\n",
       "HighestLevelEdPct          0\n",
       "Year                       0\n",
       "dtype: int64"
      ]
     },
     "execution_count": 9,
     "metadata": {},
     "output_type": "execute_result"
    }
   ],
   "source": [
    "df.isnull().sum()"
   ]
  },
  {
   "cell_type": "markdown",
   "metadata": {},
   "source": [
    "### Check for meaningless values such as '**','N'\n"
   ]
  },
  {
   "cell_type": "code",
   "execution_count": 15,
   "metadata": {},
   "outputs": [],
   "source": [
    "#df['School Requires Comprehensive Support - As of 2017-18'] = df['School Requires Comprehensive Support - As of 2017-18'].replace('**','NA')\n",
    "\n",
    "df['Bachelors'] = df['Bachelors'].replace('N',9999999)\n",
    "df['Masters'] = df['Masters'].replace('N',9999999)\n",
    "df['Doctoral'] = df['Doctoral'].replace('N',9999999)\n",
    "df['HighestLevelEdPct'] = df['HighestLevelEdPct'].replace('N',9999999)\n",
    "\n",
    "df['Bachelors'] = df['Bachelors'].replace('NA',9999999)\n",
    "df['Masters'] = df['Masters'].replace('NA',9999999)\n",
    "df['Doctoral'] = df['Doctoral'].replace('NA',9999999)\n",
    "df['HighestLevelEdPct'] = df['HighestLevelEdPct'].replace('NA',9999999)"
   ]
  },
  {
   "cell_type": "markdown",
   "metadata": {},
   "source": [
    "### Check Data types of all columns"
   ]
  },
  {
   "cell_type": "code",
   "execution_count": 16,
   "metadata": {
    "scrolled": true
   },
   "outputs": [
    {
     "data": {
      "text/plain": [
       "CountyCode                  object\n",
       "CountyName                  object\n",
       "DistrictCode                object\n",
       "DistrictName                object\n",
       "Teachers/Admins             object\n",
       "Bachelors                  float64\n",
       "Masters                    float64\n",
       "Doctoral                   float64\n",
       "HighestLevelOfEducation     object\n",
       "HighestLevelEdPct            int64\n",
       "Year                        object\n",
       "dtype: object"
      ]
     },
     "execution_count": 16,
     "metadata": {},
     "output_type": "execute_result"
    }
   ],
   "source": [
    "df.dtypes"
   ]
  },
  {
   "cell_type": "markdown",
   "metadata": {},
   "source": [
    "### Change Data types "
   ]
  },
  {
   "cell_type": "code",
   "execution_count": 17,
   "metadata": {},
   "outputs": [],
   "source": [
    "df[\"Bachelors\"] = df[\"Bachelors\"].astype(float)\n",
    "df[\"Masters\"] = df[\"Masters\"].astype(float)\n",
    "df[\"Doctoral\"] = df[\"Doctoral\"].astype(float)\n",
    "df[\"HighestLevelEdPct\"] = df[\"HighestLevelEdPct\"].astype(float)"
   ]
  },
  {
   "cell_type": "markdown",
   "metadata": {},
   "source": [
    "### Check the changed data types"
   ]
  },
  {
   "cell_type": "code",
   "execution_count": 18,
   "metadata": {},
   "outputs": [
    {
     "data": {
      "text/plain": [
       "CountyCode                  object\n",
       "CountyName                  object\n",
       "DistrictCode                object\n",
       "DistrictName                object\n",
       "Teachers/Admins             object\n",
       "Bachelors                  float64\n",
       "Masters                    float64\n",
       "Doctoral                   float64\n",
       "HighestLevelOfEducation     object\n",
       "HighestLevelEdPct          float64\n",
       "Year                        object\n",
       "dtype: object"
      ]
     },
     "execution_count": 18,
     "metadata": {},
     "output_type": "execute_result"
    }
   ],
   "source": [
    "df.dtypes"
   ]
  },
  {
   "cell_type": "markdown",
   "metadata": {},
   "source": [
    "### Get a look at final data"
   ]
  },
  {
   "cell_type": "code",
   "execution_count": 19,
   "metadata": {},
   "outputs": [
    {
     "data": {
      "text/html": [
       "<div>\n",
       "<style scoped>\n",
       "    .dataframe tbody tr th:only-of-type {\n",
       "        vertical-align: middle;\n",
       "    }\n",
       "\n",
       "    .dataframe tbody tr th {\n",
       "        vertical-align: top;\n",
       "    }\n",
       "\n",
       "    .dataframe thead th {\n",
       "        text-align: right;\n",
       "    }\n",
       "</style>\n",
       "<table border=\"1\" class=\"dataframe\">\n",
       "  <thead>\n",
       "    <tr style=\"text-align: right;\">\n",
       "      <th></th>\n",
       "      <th>CountyCode</th>\n",
       "      <th>CountyName</th>\n",
       "      <th>DistrictCode</th>\n",
       "      <th>DistrictName</th>\n",
       "      <th>Teachers/Admins</th>\n",
       "      <th>Bachelors</th>\n",
       "      <th>Masters</th>\n",
       "      <th>Doctoral</th>\n",
       "      <th>HighestLevelOfEducation</th>\n",
       "      <th>HighestLevelEdPct</th>\n",
       "      <th>Year</th>\n",
       "    </tr>\n",
       "  </thead>\n",
       "  <tbody>\n",
       "    <tr>\n",
       "      <th>0</th>\n",
       "      <td>01</td>\n",
       "      <td>ATLANTIC</td>\n",
       "      <td>0010</td>\n",
       "      <td>ABSECON CITY</td>\n",
       "      <td>Admin</td>\n",
       "      <td>9999999.0</td>\n",
       "      <td>50.0</td>\n",
       "      <td>50.0</td>\n",
       "      <td>NA</td>\n",
       "      <td>9999999.0</td>\n",
       "      <td>2017-18</td>\n",
       "    </tr>\n",
       "    <tr>\n",
       "      <th>1</th>\n",
       "      <td>01</td>\n",
       "      <td>ATLANTIC</td>\n",
       "      <td>0010</td>\n",
       "      <td>ABSECON CITY</td>\n",
       "      <td>Teachers</td>\n",
       "      <td>58.0</td>\n",
       "      <td>41.0</td>\n",
       "      <td>2.0</td>\n",
       "      <td>NA</td>\n",
       "      <td>9999999.0</td>\n",
       "      <td>2017-18</td>\n",
       "    </tr>\n",
       "    <tr>\n",
       "      <th>2</th>\n",
       "      <td>01</td>\n",
       "      <td>ATLANTIC</td>\n",
       "      <td>0110</td>\n",
       "      <td>ATLANTIC CITY</td>\n",
       "      <td>Admin</td>\n",
       "      <td>9999999.0</td>\n",
       "      <td>94.0</td>\n",
       "      <td>6.0</td>\n",
       "      <td>NA</td>\n",
       "      <td>9999999.0</td>\n",
       "      <td>2017-18</td>\n",
       "    </tr>\n",
       "    <tr>\n",
       "      <th>3</th>\n",
       "      <td>01</td>\n",
       "      <td>ATLANTIC</td>\n",
       "      <td>0110</td>\n",
       "      <td>ATLANTIC CITY</td>\n",
       "      <td>Teachers</td>\n",
       "      <td>57.0</td>\n",
       "      <td>41.0</td>\n",
       "      <td>1.0</td>\n",
       "      <td>NA</td>\n",
       "      <td>9999999.0</td>\n",
       "      <td>2017-18</td>\n",
       "    </tr>\n",
       "    <tr>\n",
       "      <th>4</th>\n",
       "      <td>01</td>\n",
       "      <td>ATLANTIC</td>\n",
       "      <td>0120</td>\n",
       "      <td>ATLANTIC CO VOCATIONAL</td>\n",
       "      <td>Admin</td>\n",
       "      <td>9999999.0</td>\n",
       "      <td>78.0</td>\n",
       "      <td>22.0</td>\n",
       "      <td>NA</td>\n",
       "      <td>9999999.0</td>\n",
       "      <td>2017-18</td>\n",
       "    </tr>\n",
       "  </tbody>\n",
       "</table>\n",
       "</div>"
      ],
      "text/plain": [
       "  CountyCode CountyName DistrictCode            DistrictName Teachers/Admins  \\\n",
       "0         01   ATLANTIC         0010            ABSECON CITY           Admin   \n",
       "1         01   ATLANTIC         0010            ABSECON CITY        Teachers   \n",
       "2         01   ATLANTIC         0110           ATLANTIC CITY           Admin   \n",
       "3         01   ATLANTIC         0110           ATLANTIC CITY        Teachers   \n",
       "4         01   ATLANTIC         0120  ATLANTIC CO VOCATIONAL           Admin   \n",
       "\n",
       "   Bachelors  Masters  Doctoral HighestLevelOfEducation  HighestLevelEdPct  \\\n",
       "0  9999999.0     50.0      50.0                      NA          9999999.0   \n",
       "1       58.0     41.0       2.0                      NA          9999999.0   \n",
       "2  9999999.0     94.0       6.0                      NA          9999999.0   \n",
       "3       57.0     41.0       1.0                      NA          9999999.0   \n",
       "4  9999999.0     78.0      22.0                      NA          9999999.0   \n",
       "\n",
       "      Year  \n",
       "0  2017-18  \n",
       "1  2017-18  \n",
       "2  2017-18  \n",
       "3  2017-18  \n",
       "4  2017-18  "
      ]
     },
     "execution_count": 19,
     "metadata": {},
     "output_type": "execute_result"
    }
   ],
   "source": [
    "df.head()"
   ]
  },
  {
   "cell_type": "code",
   "execution_count": 20,
   "metadata": {},
   "outputs": [],
   "source": [
    "#df1.to_csv(df1.csv)\n",
    "df.to_csv('TeachersAdminsLevelOfEducation.csv', encoding='utf-8', index=False)"
   ]
  },
  {
   "cell_type": "code",
   "execution_count": null,
   "metadata": {},
   "outputs": [],
   "source": [
    "#x= df1.to_excel('output1.xlsx')  # doctest: +SKIP"
   ]
  }
 ],
 "metadata": {
  "kernelspec": {
   "display_name": "Python 3",
   "language": "python",
   "name": "python3"
  },
  "language_info": {
   "codemirror_mode": {
    "name": "ipython",
    "version": 3
   },
   "file_extension": ".py",
   "mimetype": "text/x-python",
   "name": "python",
   "nbconvert_exporter": "python",
   "pygments_lexer": "ipython3",
   "version": "3.7.3"
  }
 },
 "nbformat": 4,
 "nbformat_minor": 2
}
