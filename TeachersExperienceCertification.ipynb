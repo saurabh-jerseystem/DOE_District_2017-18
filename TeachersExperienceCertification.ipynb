{
 "cells": [
  {
   "cell_type": "code",
   "execution_count": 1,
   "metadata": {},
   "outputs": [
    {
     "data": {
      "text/html": [
       "<div>\n",
       "<style scoped>\n",
       "    .dataframe tbody tr th:only-of-type {\n",
       "        vertical-align: middle;\n",
       "    }\n",
       "\n",
       "    .dataframe tbody tr th {\n",
       "        vertical-align: top;\n",
       "    }\n",
       "\n",
       "    .dataframe thead th {\n",
       "        text-align: right;\n",
       "    }\n",
       "</style>\n",
       "<table border=\"1\" class=\"dataframe\">\n",
       "  <thead>\n",
       "    <tr style=\"text-align: right;\">\n",
       "      <th></th>\n",
       "      <th>CountyCode</th>\n",
       "      <th>CountyName</th>\n",
       "      <th>DistrictCode</th>\n",
       "      <th>DistrictName</th>\n",
       "      <th>TeacherCount_District</th>\n",
       "      <th>TeacherCount_State</th>\n",
       "      <th>TeacherAvgYearsExp_District</th>\n",
       "      <th>TeacherAvgYearsExp_State</th>\n",
       "      <th>TeacherAvgYearsExpInDistrict_District</th>\n",
       "      <th>TeacherAvgYearsExpInDistrict_State</th>\n",
       "      <th>TeacherInDistrict4YearsOrMore_District</th>\n",
       "      <th>TeacherInDistrict4YearsOrMore_State</th>\n",
       "    </tr>\n",
       "  </thead>\n",
       "  <tbody>\n",
       "    <tr>\n",
       "      <th>0</th>\n",
       "      <td>01</td>\n",
       "      <td>ATLANTIC</td>\n",
       "      <td>0010</td>\n",
       "      <td>ABSECON CITY</td>\n",
       "      <td>68</td>\n",
       "      <td>117464</td>\n",
       "      <td>15.4</td>\n",
       "      <td>12.0</td>\n",
       "      <td>14.7</td>\n",
       "      <td>10.7</td>\n",
       "      <td>92.3</td>\n",
       "      <td>75.5</td>\n",
       "    </tr>\n",
       "    <tr>\n",
       "      <th>1</th>\n",
       "      <td>01</td>\n",
       "      <td>ATLANTIC</td>\n",
       "      <td>0110</td>\n",
       "      <td>ATLANTIC CITY</td>\n",
       "      <td>642</td>\n",
       "      <td>117464</td>\n",
       "      <td>13.1</td>\n",
       "      <td>12.0</td>\n",
       "      <td>12.9</td>\n",
       "      <td>10.7</td>\n",
       "      <td>87.1</td>\n",
       "      <td>75.5</td>\n",
       "    </tr>\n",
       "  </tbody>\n",
       "</table>\n",
       "</div>"
      ],
      "text/plain": [
       "  CountyCode CountyName DistrictCode   DistrictName TeacherCount_District  \\\n",
       "0         01   ATLANTIC         0010   ABSECON CITY                    68   \n",
       "1         01   ATLANTIC         0110  ATLANTIC CITY                   642   \n",
       "\n",
       "   TeacherCount_State TeacherAvgYearsExp_District  TeacherAvgYearsExp_State  \\\n",
       "0              117464                        15.4                      12.0   \n",
       "1              117464                        13.1                      12.0   \n",
       "\n",
       "  TeacherAvgYearsExpInDistrict_District  TeacherAvgYearsExpInDistrict_State  \\\n",
       "0                                  14.7                                10.7   \n",
       "1                                  12.9                                10.7   \n",
       "\n",
       "  TeacherInDistrict4YearsOrMore_District  TeacherInDistrict4YearsOrMore_State  \n",
       "0                                   92.3                                 75.5  \n",
       "1                                   87.1                                 75.5  "
      ]
     },
     "execution_count": 1,
     "metadata": {},
     "output_type": "execute_result"
    }
   ],
   "source": [
    "import os\n",
    "import pandas as pd\n",
    "import numpy as np\n",
    "\n",
    "#df = pd.read_excel('narrative_raw.xlsx')\n",
    "df = pd.read_csv('raw.csv',index_col = False, dtype = {\"CountyCode\": str,\"DistrictCode\": str,\"SchoolCode\": str})\n",
    "df.head(2)"
   ]
  },
  {
   "cell_type": "markdown",
   "metadata": {},
   "source": [
    "### Check number of columns and rows"
   ]
  },
  {
   "cell_type": "code",
   "execution_count": 2,
   "metadata": {},
   "outputs": [
    {
     "data": {
      "text/plain": [
       "(675, 12)"
      ]
     },
     "execution_count": 2,
     "metadata": {},
     "output_type": "execute_result"
    }
   ],
   "source": [
    "df.shape"
   ]
  },
  {
   "cell_type": "markdown",
   "metadata": {},
   "source": [
    "### Adding columns from 2016-17 table"
   ]
  },
  {
   "cell_type": "code",
   "execution_count": 3,
   "metadata": {},
   "outputs": [],
   "source": [
    "#df['Principal'] = 'NA'\n",
    "#df['SchoolAddress1'] = 'NA'\n",
    "#df['SchoolAddress2'] = 'NA'\n",
    "df['Year'] = '2017-18'"
   ]
  },
  {
   "cell_type": "markdown",
   "metadata": {},
   "source": [
    "### Check if columns are added properly"
   ]
  },
  {
   "cell_type": "code",
   "execution_count": 4,
   "metadata": {
    "scrolled": true
   },
   "outputs": [
    {
     "data": {
      "text/html": [
       "<div>\n",
       "<style scoped>\n",
       "    .dataframe tbody tr th:only-of-type {\n",
       "        vertical-align: middle;\n",
       "    }\n",
       "\n",
       "    .dataframe tbody tr th {\n",
       "        vertical-align: top;\n",
       "    }\n",
       "\n",
       "    .dataframe thead th {\n",
       "        text-align: right;\n",
       "    }\n",
       "</style>\n",
       "<table border=\"1\" class=\"dataframe\">\n",
       "  <thead>\n",
       "    <tr style=\"text-align: right;\">\n",
       "      <th></th>\n",
       "      <th>CountyCode</th>\n",
       "      <th>CountyName</th>\n",
       "      <th>DistrictCode</th>\n",
       "      <th>DistrictName</th>\n",
       "      <th>TeacherCount_District</th>\n",
       "      <th>TeacherCount_State</th>\n",
       "      <th>TeacherAvgYearsExp_District</th>\n",
       "      <th>TeacherAvgYearsExp_State</th>\n",
       "      <th>TeacherAvgYearsExpInDistrict_District</th>\n",
       "      <th>TeacherAvgYearsExpInDistrict_State</th>\n",
       "      <th>TeacherInDistrict4YearsOrMore_District</th>\n",
       "      <th>TeacherInDistrict4YearsOrMore_State</th>\n",
       "      <th>Year</th>\n",
       "    </tr>\n",
       "  </thead>\n",
       "  <tbody>\n",
       "    <tr>\n",
       "      <th>0</th>\n",
       "      <td>01</td>\n",
       "      <td>ATLANTIC</td>\n",
       "      <td>0010</td>\n",
       "      <td>ABSECON CITY</td>\n",
       "      <td>68</td>\n",
       "      <td>117464</td>\n",
       "      <td>15.4</td>\n",
       "      <td>12.0</td>\n",
       "      <td>14.7</td>\n",
       "      <td>10.7</td>\n",
       "      <td>92.3</td>\n",
       "      <td>75.5</td>\n",
       "      <td>2017-18</td>\n",
       "    </tr>\n",
       "    <tr>\n",
       "      <th>1</th>\n",
       "      <td>01</td>\n",
       "      <td>ATLANTIC</td>\n",
       "      <td>0110</td>\n",
       "      <td>ATLANTIC CITY</td>\n",
       "      <td>642</td>\n",
       "      <td>117464</td>\n",
       "      <td>13.1</td>\n",
       "      <td>12.0</td>\n",
       "      <td>12.9</td>\n",
       "      <td>10.7</td>\n",
       "      <td>87.1</td>\n",
       "      <td>75.5</td>\n",
       "      <td>2017-18</td>\n",
       "    </tr>\n",
       "  </tbody>\n",
       "</table>\n",
       "</div>"
      ],
      "text/plain": [
       "  CountyCode CountyName DistrictCode   DistrictName TeacherCount_District  \\\n",
       "0         01   ATLANTIC         0010   ABSECON CITY                    68   \n",
       "1         01   ATLANTIC         0110  ATLANTIC CITY                   642   \n",
       "\n",
       "   TeacherCount_State TeacherAvgYearsExp_District  TeacherAvgYearsExp_State  \\\n",
       "0              117464                        15.4                      12.0   \n",
       "1              117464                        13.1                      12.0   \n",
       "\n",
       "  TeacherAvgYearsExpInDistrict_District  TeacherAvgYearsExpInDistrict_State  \\\n",
       "0                                  14.7                                10.7   \n",
       "1                                  12.9                                10.7   \n",
       "\n",
       "  TeacherInDistrict4YearsOrMore_District  TeacherInDistrict4YearsOrMore_State  \\\n",
       "0                                   92.3                                 75.5   \n",
       "1                                   87.1                                 75.5   \n",
       "\n",
       "      Year  \n",
       "0  2017-18  \n",
       "1  2017-18  "
      ]
     },
     "execution_count": 4,
     "metadata": {},
     "output_type": "execute_result"
    }
   ],
   "source": [
    "df.head(2)"
   ]
  },
  {
   "cell_type": "markdown",
   "metadata": {},
   "source": [
    "### Check missing values"
   ]
  },
  {
   "cell_type": "code",
   "execution_count": 5,
   "metadata": {
    "scrolled": true
   },
   "outputs": [
    {
     "data": {
      "text/plain": [
       "CountyCode                                0\n",
       "CountyName                                0\n",
       "DistrictCode                              0\n",
       "DistrictName                              0\n",
       "TeacherCount_District                     1\n",
       "TeacherCount_State                        0\n",
       "TeacherAvgYearsExp_District               1\n",
       "TeacherAvgYearsExp_State                  0\n",
       "TeacherAvgYearsExpInDistrict_District     1\n",
       "TeacherAvgYearsExpInDistrict_State        0\n",
       "TeacherInDistrict4YearsOrMore_District    1\n",
       "TeacherInDistrict4YearsOrMore_State       0\n",
       "Year                                      0\n",
       "dtype: int64"
      ]
     },
     "execution_count": 5,
     "metadata": {},
     "output_type": "execute_result"
    }
   ],
   "source": [
    "df.isnull().sum()"
   ]
  },
  {
   "cell_type": "markdown",
   "metadata": {},
   "source": [
    "### Fill missing values"
   ]
  },
  {
   "cell_type": "code",
   "execution_count": 6,
   "metadata": {},
   "outputs": [],
   "source": [
    "df = df.fillna('9999999')"
   ]
  },
  {
   "cell_type": "markdown",
   "metadata": {},
   "source": [
    "### Check again if missing values are dealt properly"
   ]
  },
  {
   "cell_type": "code",
   "execution_count": 7,
   "metadata": {},
   "outputs": [
    {
     "data": {
      "text/plain": [
       "CountyCode                                0\n",
       "CountyName                                0\n",
       "DistrictCode                              0\n",
       "DistrictName                              0\n",
       "TeacherCount_District                     0\n",
       "TeacherCount_State                        0\n",
       "TeacherAvgYearsExp_District               0\n",
       "TeacherAvgYearsExp_State                  0\n",
       "TeacherAvgYearsExpInDistrict_District     0\n",
       "TeacherAvgYearsExpInDistrict_State        0\n",
       "TeacherInDistrict4YearsOrMore_District    0\n",
       "TeacherInDistrict4YearsOrMore_State       0\n",
       "Year                                      0\n",
       "dtype: int64"
      ]
     },
     "execution_count": 7,
     "metadata": {},
     "output_type": "execute_result"
    }
   ],
   "source": [
    "df.isnull().sum()"
   ]
  },
  {
   "cell_type": "markdown",
   "metadata": {},
   "source": [
    "### Check for meaningless values such as '**','N'\n"
   ]
  },
  {
   "cell_type": "code",
   "execution_count": 8,
   "metadata": {},
   "outputs": [],
   "source": [
    "df['TeacherCount_District'] = df['TeacherCount_District'].replace('**','9999999')\n",
    "df['TeacherCount_District'] = df['TeacherCount_District'].replace('N','9999999')\n",
    "\n",
    "df['TeacherCount_State'] = df['TeacherCount_State'].replace('**','9999999')\n",
    "df['TeacherCount_State'] = df['TeacherCount_State'].replace('N','9999999')\n",
    "\n",
    "df['TeacherAvgYearsExp_District'] = df['TeacherAvgYearsExp_District'].replace('**','9999999')\n",
    "df['TeacherAvgYearsExp_District'] = df['TeacherAvgYearsExp_District'].replace('N','9999999')\n",
    "\n",
    "df['TeacherAvgYearsExp_State'] = df['TeacherAvgYearsExp_State'].replace('**','9999999')\n",
    "df['TeacherAvgYearsExp_State'] = df['TeacherAvgYearsExp_State'].replace('N','9999999')\n",
    "\n",
    "df['TeacherAvgYearsExpInDistrict_District'] = df['TeacherAvgYearsExpInDistrict_District'].replace('**','9999999')\n",
    "df['TeacherAvgYearsExpInDistrict_District'] = df['TeacherAvgYearsExpInDistrict_District'].replace('N','9999999')\n",
    "\n",
    "df['TeacherAvgYearsExpInDistrict_State'] = df['TeacherAvgYearsExpInDistrict_State'].replace('**','9999999')\n",
    "df['TeacherAvgYearsExpInDistrict_State'] = df['TeacherAvgYearsExpInDistrict_State'].replace('N','9999999')\n",
    "\n",
    "df['TeacherInDistrict4YearsOrMore_District'] = df['TeacherInDistrict4YearsOrMore_District'].replace('**','9999999')\n",
    "df['TeacherInDistrict4YearsOrMore_District'] = df['TeacherInDistrict4YearsOrMore_District'].replace('N','9999999')\n",
    "\n",
    "df['TeacherInDistrict4YearsOrMore_State'] = df['TeacherInDistrict4YearsOrMore_State'].replace('**','9999999')\n",
    "df['TeacherInDistrict4YearsOrMore_State'] = df['TeacherInDistrict4YearsOrMore_State'].replace('N','9999999')\n"
   ]
  },
  {
   "cell_type": "markdown",
   "metadata": {},
   "source": [
    "### Check Data types of all columns"
   ]
  },
  {
   "cell_type": "code",
   "execution_count": 9,
   "metadata": {
    "scrolled": true
   },
   "outputs": [
    {
     "data": {
      "text/plain": [
       "CountyCode                                 object\n",
       "CountyName                                 object\n",
       "DistrictCode                               object\n",
       "DistrictName                               object\n",
       "TeacherCount_District                      object\n",
       "TeacherCount_State                          int64\n",
       "TeacherAvgYearsExp_District                object\n",
       "TeacherAvgYearsExp_State                  float64\n",
       "TeacherAvgYearsExpInDistrict_District      object\n",
       "TeacherAvgYearsExpInDistrict_State        float64\n",
       "TeacherInDistrict4YearsOrMore_District     object\n",
       "TeacherInDistrict4YearsOrMore_State       float64\n",
       "Year                                       object\n",
       "dtype: object"
      ]
     },
     "execution_count": 9,
     "metadata": {},
     "output_type": "execute_result"
    }
   ],
   "source": [
    "df.dtypes"
   ]
  },
  {
   "cell_type": "markdown",
   "metadata": {},
   "source": [
    "### Change Data types "
   ]
  },
  {
   "cell_type": "code",
   "execution_count": 10,
   "metadata": {},
   "outputs": [],
   "source": [
    "df[\"TeacherCount_District\"] = df[\"TeacherCount_District\"].astype(int)\n",
    "df[\"TeacherCount_State\"] = df[\"TeacherCount_State\"].astype(int)\n",
    "df[\"TeacherAvgYearsExp_District\"] = df[\"TeacherAvgYearsExp_District\"].astype(float)\n",
    "df[\"TeacherAvgYearsExp_State\"] = df[\"TeacherAvgYearsExp_State\"].astype(float)\n",
    "df[\"TeacherAvgYearsExpInDistrict_District\"] = df[\"TeacherAvgYearsExpInDistrict_District\"].astype(float)\n",
    "df[\"TeacherAvgYearsExpInDistrict_State\"] = df[\"TeacherAvgYearsExpInDistrict_State\"].astype(float)\n",
    "df[\"TeacherInDistrict4YearsOrMore_District\"] = df[\"TeacherInDistrict4YearsOrMore_District\"].astype(float)\n",
    "df[\"TeacherInDistrict4YearsOrMore_State\"] = df[\"TeacherInDistrict4YearsOrMore_State\"].astype(float)"
   ]
  },
  {
   "cell_type": "markdown",
   "metadata": {},
   "source": [
    "### Check the changed data types"
   ]
  },
  {
   "cell_type": "code",
   "execution_count": 11,
   "metadata": {},
   "outputs": [
    {
     "data": {
      "text/plain": [
       "CountyCode                                 object\n",
       "CountyName                                 object\n",
       "DistrictCode                               object\n",
       "DistrictName                               object\n",
       "TeacherCount_District                       int64\n",
       "TeacherCount_State                          int64\n",
       "TeacherAvgYearsExp_District               float64\n",
       "TeacherAvgYearsExp_State                  float64\n",
       "TeacherAvgYearsExpInDistrict_District     float64\n",
       "TeacherAvgYearsExpInDistrict_State        float64\n",
       "TeacherInDistrict4YearsOrMore_District    float64\n",
       "TeacherInDistrict4YearsOrMore_State       float64\n",
       "Year                                       object\n",
       "dtype: object"
      ]
     },
     "execution_count": 11,
     "metadata": {},
     "output_type": "execute_result"
    }
   ],
   "source": [
    "df.dtypes"
   ]
  },
  {
   "cell_type": "markdown",
   "metadata": {},
   "source": [
    "### Get a look at final data"
   ]
  },
  {
   "cell_type": "code",
   "execution_count": 12,
   "metadata": {},
   "outputs": [
    {
     "data": {
      "text/html": [
       "<div>\n",
       "<style scoped>\n",
       "    .dataframe tbody tr th:only-of-type {\n",
       "        vertical-align: middle;\n",
       "    }\n",
       "\n",
       "    .dataframe tbody tr th {\n",
       "        vertical-align: top;\n",
       "    }\n",
       "\n",
       "    .dataframe thead th {\n",
       "        text-align: right;\n",
       "    }\n",
       "</style>\n",
       "<table border=\"1\" class=\"dataframe\">\n",
       "  <thead>\n",
       "    <tr style=\"text-align: right;\">\n",
       "      <th></th>\n",
       "      <th>CountyCode</th>\n",
       "      <th>CountyName</th>\n",
       "      <th>DistrictCode</th>\n",
       "      <th>DistrictName</th>\n",
       "      <th>TeacherCount_District</th>\n",
       "      <th>TeacherCount_State</th>\n",
       "      <th>TeacherAvgYearsExp_District</th>\n",
       "      <th>TeacherAvgYearsExp_State</th>\n",
       "      <th>TeacherAvgYearsExpInDistrict_District</th>\n",
       "      <th>TeacherAvgYearsExpInDistrict_State</th>\n",
       "      <th>TeacherInDistrict4YearsOrMore_District</th>\n",
       "      <th>TeacherInDistrict4YearsOrMore_State</th>\n",
       "      <th>Year</th>\n",
       "    </tr>\n",
       "  </thead>\n",
       "  <tbody>\n",
       "    <tr>\n",
       "      <th>0</th>\n",
       "      <td>01</td>\n",
       "      <td>ATLANTIC</td>\n",
       "      <td>0010</td>\n",
       "      <td>ABSECON CITY</td>\n",
       "      <td>68</td>\n",
       "      <td>117464</td>\n",
       "      <td>15.4</td>\n",
       "      <td>12.0</td>\n",
       "      <td>14.7</td>\n",
       "      <td>10.7</td>\n",
       "      <td>92.3</td>\n",
       "      <td>75.5</td>\n",
       "      <td>2017-18</td>\n",
       "    </tr>\n",
       "    <tr>\n",
       "      <th>1</th>\n",
       "      <td>01</td>\n",
       "      <td>ATLANTIC</td>\n",
       "      <td>0110</td>\n",
       "      <td>ATLANTIC CITY</td>\n",
       "      <td>642</td>\n",
       "      <td>117464</td>\n",
       "      <td>13.1</td>\n",
       "      <td>12.0</td>\n",
       "      <td>12.9</td>\n",
       "      <td>10.7</td>\n",
       "      <td>87.1</td>\n",
       "      <td>75.5</td>\n",
       "      <td>2017-18</td>\n",
       "    </tr>\n",
       "    <tr>\n",
       "      <th>2</th>\n",
       "      <td>01</td>\n",
       "      <td>ATLANTIC</td>\n",
       "      <td>0120</td>\n",
       "      <td>ATLANTIC CO VOCATIONAL</td>\n",
       "      <td>134</td>\n",
       "      <td>117464</td>\n",
       "      <td>7.0</td>\n",
       "      <td>12.0</td>\n",
       "      <td>6.7</td>\n",
       "      <td>10.7</td>\n",
       "      <td>63.4</td>\n",
       "      <td>75.5</td>\n",
       "      <td>2017-18</td>\n",
       "    </tr>\n",
       "    <tr>\n",
       "      <th>3</th>\n",
       "      <td>01</td>\n",
       "      <td>ATLANTIC</td>\n",
       "      <td>0125</td>\n",
       "      <td>ATLANTIC CO SPECIAL SERV</td>\n",
       "      <td>58</td>\n",
       "      <td>117464</td>\n",
       "      <td>16.0</td>\n",
       "      <td>12.0</td>\n",
       "      <td>14.8</td>\n",
       "      <td>10.7</td>\n",
       "      <td>82.8</td>\n",
       "      <td>75.5</td>\n",
       "      <td>2017-18</td>\n",
       "    </tr>\n",
       "    <tr>\n",
       "      <th>4</th>\n",
       "      <td>01</td>\n",
       "      <td>ATLANTIC</td>\n",
       "      <td>0570</td>\n",
       "      <td>BRIGANTINE CITY</td>\n",
       "      <td>68</td>\n",
       "      <td>117464</td>\n",
       "      <td>18.4</td>\n",
       "      <td>12.0</td>\n",
       "      <td>18.1</td>\n",
       "      <td>10.7</td>\n",
       "      <td>91.2</td>\n",
       "      <td>75.5</td>\n",
       "      <td>2017-18</td>\n",
       "    </tr>\n",
       "  </tbody>\n",
       "</table>\n",
       "</div>"
      ],
      "text/plain": [
       "  CountyCode CountyName DistrictCode              DistrictName  \\\n",
       "0         01   ATLANTIC         0010              ABSECON CITY   \n",
       "1         01   ATLANTIC         0110             ATLANTIC CITY   \n",
       "2         01   ATLANTIC         0120    ATLANTIC CO VOCATIONAL   \n",
       "3         01   ATLANTIC         0125  ATLANTIC CO SPECIAL SERV   \n",
       "4         01   ATLANTIC         0570           BRIGANTINE CITY   \n",
       "\n",
       "   TeacherCount_District  TeacherCount_State  TeacherAvgYearsExp_District  \\\n",
       "0                     68              117464                         15.4   \n",
       "1                    642              117464                         13.1   \n",
       "2                    134              117464                          7.0   \n",
       "3                     58              117464                         16.0   \n",
       "4                     68              117464                         18.4   \n",
       "\n",
       "   TeacherAvgYearsExp_State  TeacherAvgYearsExpInDistrict_District  \\\n",
       "0                      12.0                                   14.7   \n",
       "1                      12.0                                   12.9   \n",
       "2                      12.0                                    6.7   \n",
       "3                      12.0                                   14.8   \n",
       "4                      12.0                                   18.1   \n",
       "\n",
       "   TeacherAvgYearsExpInDistrict_State  TeacherInDistrict4YearsOrMore_District  \\\n",
       "0                                10.7                                    92.3   \n",
       "1                                10.7                                    87.1   \n",
       "2                                10.7                                    63.4   \n",
       "3                                10.7                                    82.8   \n",
       "4                                10.7                                    91.2   \n",
       "\n",
       "   TeacherInDistrict4YearsOrMore_State     Year  \n",
       "0                                 75.5  2017-18  \n",
       "1                                 75.5  2017-18  \n",
       "2                                 75.5  2017-18  \n",
       "3                                 75.5  2017-18  \n",
       "4                                 75.5  2017-18  "
      ]
     },
     "execution_count": 12,
     "metadata": {},
     "output_type": "execute_result"
    }
   ],
   "source": [
    "df.head()"
   ]
  },
  {
   "cell_type": "code",
   "execution_count": 13,
   "metadata": {},
   "outputs": [],
   "source": [
    "#df1.to_csv(df1.csv)\n",
    "df.to_csv('TeachersExperienceCertification.csv', encoding='utf-8', index=False)"
   ]
  },
  {
   "cell_type": "code",
   "execution_count": null,
   "metadata": {},
   "outputs": [],
   "source": [
    "#x= df1.to_excel('output1.xlsx')  # doctest: +SKIP"
   ]
  }
 ],
 "metadata": {
  "kernelspec": {
   "display_name": "Python 3",
   "language": "python",
   "name": "python3"
  },
  "language_info": {
   "codemirror_mode": {
    "name": "ipython",
    "version": 3
   },
   "file_extension": ".py",
   "mimetype": "text/x-python",
   "name": "python",
   "nbconvert_exporter": "python",
   "pygments_lexer": "ipython3",
   "version": "3.7.3"
  }
 },
 "nbformat": 4,
 "nbformat_minor": 2
}
